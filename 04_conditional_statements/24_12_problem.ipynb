{
 "cells": [
  {
   "cell_type": "code",
   "execution_count": 34,
   "metadata": {},
   "outputs": [
    {
     "name": "stdout",
     "output_type": "stream",
     "text": [
      "your pin is blocked now !\n"
     ]
    }
   ],
   "source": [
    "pin_no = input('enter your pin no. ')\n",
    "for_check_balance = 1\n",
    "for_cash_withdraw = 2\n",
    "for_pin_block = 3\n",
    "for_pin_change = 4\n",
    "balance_in_account = float(1000)\n",
    "li = [1, 2, 3, 4]\n",
    "\n",
    "options = \"\"\"\n",
    "        1 - Check Balance ,\n",
    "        2 - Cash Withdraw ,\n",
    "        3 - Pin Block ,\n",
    "        4 - Pin Change ,\n",
    "\"\"\"\n",
    "\n",
    "\n",
    "if(not pin_no):\n",
    "    print('please enter a pin no.')\n",
    "\n",
    "elif(len(pin_no) < 4 or len(pin_no) > 4):\n",
    "    print('please enter a valid pin no.')\n",
    "else:\n",
    "    option_choosed = int(\n",
    "        input(f'choose any option between 1 to 4 : \\n {options}'))\n",
    "    if(option_choosed not in li):\n",
    "        print('please enter a valid option')\n",
    "    if(option_choosed == for_cash_withdraw):\n",
    "        amount_for_withdraw = float(\n",
    "            input(f'please enter amount between 1 to{balance_in_account}'))\n",
    "        if(not amount_for_withdraw):\n",
    "            print('please enter an amount')\n",
    "        # elif(type(amount_for_withdraw) != 'float'):\n",
    "        #     print('please enter a valid integer!')\n",
    "        elif(float(amount_for_withdraw) > 1000 or float(amount_for_withdraw <= 1)):\n",
    "            print('please enter amount between 1 and 1000')\n",
    "        else:\n",
    "            print(\n",
    "                f'balance withdraw successful! and your remaining balance is {balance_in_account-amount_for_withdraw}')\n",
    "    elif(option_choosed == for_check_balance):\n",
    "        print(f'your balance in account is Rs.{balance_in_account}')\n",
    "    elif(option_choosed == for_pin_block):\n",
    "        print('your pin is blocked now !')\n",
    "    elif(option_choosed == for_pin_change):\n",
    "        new_pin = input('enter your new pin : ')\n",
    "        if(not new_pin):\n",
    "            print('please enter a pin no.')\n",
    "        elif(len(new_pin) < 4 or len(new_pin) > 4):\n",
    "            print('please enter a valid pin no.')\n",
    "        else:\n",
    "            print(f'your pin update successful and your new pin is {new_pin}')\n"
   ]
  },
  {
   "cell_type": "code",
   "execution_count": 10,
   "metadata": {},
   "outputs": [
    {
     "name": "stdout",
     "output_type": "stream",
     "text": [
      "your calculation for 1 + 2 is : 3\n"
     ]
    }
   ],
   "source": [
    "characters = [\"*\", \"/\", \"=\", \"+\", \"-\", \"c\"]\n",
    "options = \"\"\"\n",
    "\n",
    "         + for addition ,\n",
    "         - for substraction,\n",
    "         * for multiplication ,\n",
    "         / for division ,\n",
    "\"\"\"\n",
    "\n",
    "first_inp: int = input('enter the first input as integer : ')\n",
    "\n",
    "if(not first_inp):\n",
    "    print('please enter a first input as number!')\n",
    "else:\n",
    "    char_inp = str(\n",
    "        input(f'enter the character for calculations : {options}'))\n",
    "    if(char_inp not in characters):\n",
    "        print('please enter a valid calculation sign!')\n",
    "    elif(char_inp == 'c'):\n",
    "        print('input is cleared now!')\n",
    "    elif(char_inp == '='):\n",
    "        print('equal is not allowed for now!')\n",
    "    else:\n",
    "        second_inp: int = input('enter the second input as integer : ')\n",
    "        if(not second_inp):\n",
    "            print('please enter a second input as number!')\n",
    "        elif(char_inp == 'c'):\n",
    "            print('input is cleared now!')\n",
    "        elif(char_inp == '='):\n",
    "            print('equal is not allowed for now!')\n",
    "        else:\n",
    "            if(char_inp == '+'):\n",
    "                output = int(first_inp) + int(second_inp)\n",
    "                calculate = f'your calculation for {first_inp} {char_inp} {second_inp} is : {output}'\n",
    "                print(calculate)\n",
    "            elif(char_inp == '-'):\n",
    "                output = int(first_inp) - int(second_inp)\n",
    "                calculate = f'your calculation for {first_inp} {char_inp} {second_inp} is : {output}'\n",
    "                print(calculate)\n",
    "            elif(char_inp == '*'):\n",
    "                output = int(first_inp) * int(second_inp)\n",
    "                calculate = f'your calculation for {first_inp} {char_inp} {second_inp} is : {output}'\n",
    "                print(calculate)\n",
    "            elif(char_inp == '/'):\n",
    "                output = int(first_inp) / int(second_inp)\n",
    "                calculate = f'your calculation for {first_inp} {char_inp} {second_inp} is : {output}'\n",
    "                print(calculate)\n"
   ]
  },
  {
   "cell_type": "code",
   "execution_count": null,
   "metadata": {},
   "outputs": [],
   "source": []
  }
 ],
 "metadata": {
  "kernelspec": {
   "display_name": "Python 3",
   "language": "python",
   "name": "python3"
  },
  "language_info": {
   "codemirror_mode": {
    "name": "ipython",
    "version": 3
   },
   "file_extension": ".py",
   "mimetype": "text/x-python",
   "name": "python",
   "nbconvert_exporter": "python",
   "pygments_lexer": "ipython3",
   "version": "3.10.4 (tags/v3.10.4:9d38120, Mar 23 2022, 23:13:41) [MSC v.1929 64 bit (AMD64)]"
  },
  "orig_nbformat": 4,
  "vscode": {
   "interpreter": {
    "hash": "aef0ad5cd858520acf7a7a5e6810764bf6b17c229c37f21e929fa08adc6f6002"
   }
  }
 },
 "nbformat": 4,
 "nbformat_minor": 2
}
