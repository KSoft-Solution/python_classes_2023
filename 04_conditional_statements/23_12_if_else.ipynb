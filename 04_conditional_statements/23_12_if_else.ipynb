{
 "cells": [
  {
   "cell_type": "code",
   "execution_count": null,
   "metadata": {},
   "outputs": [],
   "source": [
    "variable = 'i am a variable initial part' # statement\n",
    "\n",
    "# block label statement\n",
    "function (def ) \n",
    "loop (for while)\n",
    "conditional (if else elif)\n",
    "\n",
    "# inline statement\n",
    "\n",
    "# scope"
   ]
  },
  {
   "cell_type": "code",
   "execution_count": 15,
   "metadata": {},
   "outputs": [
    {
     "name": "stdout",
     "output_type": "stream",
     "text": [
      "<class 'str'>\n",
      "[]\n"
     ]
    }
   ],
   "source": [
    "# help(\"keywords\")\n",
    "\n",
    "# max()\n",
    "# min()\n",
    "# id()\n",
    "# type()\n",
    "# sorted()\n",
    "# all()\n",
    "# any()\n",
    "# len()\n",
    "# set()\n",
    "# list()\n",
    "# tuple()\n",
    "# dict()\n",
    "# bool()\n",
    "# complex()\n",
    "# str()\n",
    "# int()\n",
    "# float()\n",
    "\n",
    "\n",
    "# user_inp = input('what is your name ? ')\n",
    "# print(type(user_inp))\n",
    "# print(user_inp)\n"
   ]
  },
  {
   "cell_type": "code",
   "execution_count": 33,
   "metadata": {},
   "outputs": [
    {
     "name": "stdout",
     "output_type": "stream",
     "text": [
      "i am inside if block\n"
     ]
    }
   ],
   "source": [
    "# get_from_user_value = input('what is your name ? ')\n",
    "\n",
    "\n",
    "# if(condition--> true or false) ----> true \n",
    "#      enters inside this block\n",
    "\n",
    "\n",
    "# if(true):\n",
    "#     return 'hello wrorld'\n",
    "\n",
    "a = 0\n",
    "b = 1\n",
    "\n",
    "if(b):\n",
    "    c = 30\n",
    "    print('i am inside if block')\n",
    "    if(a):\n",
    "        print('i am inside nested if block!')\n"
   ]
  },
  {
   "cell_type": "code",
   "execution_count": 36,
   "metadata": {},
   "outputs": [
    {
     "name": "stdout",
     "output_type": "stream",
     "text": [
      "your gonna be a father soon.\n"
     ]
    }
   ],
   "source": [
    "name = 'ashok'\n",
    "userName = str(input('enter your name ? '))\n",
    "\n",
    "if(name == userName):\n",
    "    age = int(input('enter your age ? '))\n",
    "    if(age >= 18):\n",
    "        print('your gonna be a father soon.')"
   ]
  },
  {
   "cell_type": "code",
   "execution_count": 38,
   "metadata": {},
   "outputs": [
    {
     "name": "stdout",
     "output_type": "stream",
     "text": [
      "your gonna be a father soon.\n"
     ]
    }
   ],
   "source": [
    "name = 'ashok'\n",
    "userName = str(input('enter your name ? '))\n",
    "\n",
    "if(name == userName):\n",
    "    age = int(input('enter your age ? '))\n",
    "    if(age >= 18):\n",
    "        print('your gonna be a father soon.')\n",
    "else:\n",
    "    print('you given a wrong name')"
   ]
  },
  {
   "cell_type": "code",
   "execution_count": 42,
   "metadata": {},
   "outputs": [
    {
     "name": "stdout",
     "output_type": "stream",
     "text": [
      "tu ki bapa abu re , choto pila ta jaa mo...\n"
     ]
    }
   ],
   "source": [
    "name = 'alekha'\n",
    "userName = str(input('enter your name ? '))\n",
    "\n",
    "if(name == userName):\n",
    "    age = int(input('enter your age ? '))\n",
    "    if(age >= 18):\n",
    "        print('your gonna be a father soon.')\n",
    "    else:\n",
    "        print('tu ki bapa abu re , choto pila ta jaa mo...')\n",
    "else:\n",
    "    print('you given a wrong name')"
   ]
  },
  {
   "cell_type": "code",
   "execution_count": 51,
   "metadata": {},
   "outputs": [
    {
     "name": "stdout",
     "output_type": "stream",
     "text": [
      "input is something wrong\n"
     ]
    }
   ],
   "source": [
    "your_name = str(input('enter your name : '))\n",
    "age = int(input('enter your age : '))\n",
    "\n",
    "is_teenage = age<18 and age>=13\n",
    "is_citizen = age>=18 and age<=30\n",
    "is_senior_citizen = age>=30 and age<=70\n",
    "\n",
    "if(your_name and age):\n",
    "    if(is_citizen):\n",
    "        print(f'{your_name} on {age} and your a citizen of india so eligible for voting !')\n",
    "    elif(is_senior_citizen):\n",
    "        print(f'{your_name} on {age} and your a senior citizen of india so eligible for voting !')\n",
    "    elif(is_teenage):\n",
    "        print(f'{your_name} on {age} and your a teenage of india so not eligible for voting !')\n",
    "    else:\n",
    "        print('something is goona wrong!')\n",
    "else:\n",
    "    print('input is something wrong')\n"
   ]
  }
 ],
 "metadata": {
  "kernelspec": {
   "display_name": "Python 3",
   "language": "python",
   "name": "python3"
  },
  "language_info": {
   "codemirror_mode": {
    "name": "ipython",
    "version": 3
   },
   "file_extension": ".py",
   "mimetype": "text/x-python",
   "name": "python",
   "nbconvert_exporter": "python",
   "pygments_lexer": "ipython3",
   "version": "3.10.4"
  },
  "orig_nbformat": 4,
  "vscode": {
   "interpreter": {
    "hash": "aef0ad5cd858520acf7a7a5e6810764bf6b17c229c37f21e929fa08adc6f6002"
   }
  }
 },
 "nbformat": 4,
 "nbformat_minor": 2
}
