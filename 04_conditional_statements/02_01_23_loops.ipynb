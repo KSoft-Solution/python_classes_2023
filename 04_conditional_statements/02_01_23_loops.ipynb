{
 "cells": [
  {
   "cell_type": "code",
   "execution_count": null,
   "metadata": {},
   "outputs": [],
   "source": [
    "process \n",
    "\n",
    "logic/condition -- true or False\n",
    "\n",
    "True ---------  process continue\n",
    "False --------  process stop\n",
    "\n",
    "for and while\n",
    "\n",
    "for\n",
    "\n",
    "while \n",
    "\n",
    "pass\n",
    "\n",
    "continue\n",
    "\n",
    "else with for and while\n",
    "\n",
    "\n"
   ]
  },
  {
   "attachments": {},
   "cell_type": "markdown",
   "metadata": {},
   "source": [
    "for \n",
    "\n",
    "syntax\n",
    "--------------\n",
    "for variable_name in iterable_object(contition):\n",
    "    statement;\n",
    "    else:\n",
    "    statement;\n",
    "\n",
    "while \n",
    "\n",
    "syntax\n",
    "\n",
    "condition\n",
    "\n",
    "while condition:\n",
    "    statements;\n",
    "    else:\n",
    "    statement\n",
    "\n",
    "\n"
   ]
  },
  {
   "cell_type": "code",
   "execution_count": 11,
   "metadata": {},
   "outputs": [
    {
     "name": "stdout",
     "output_type": "stream",
     "text": [
      "range(0, 10)\n",
      "range(2, 10)\n",
      "range(2, 10, 3)\n",
      "range(10, 10)\n",
      "<class 'range'>\n",
      "<class 'tuple'>\n"
     ]
    }
   ],
   "source": [
    "print(range(10)) # 0 to 10\n",
    "# print(range('ashok')) # error\n",
    "print(range(2,10)) # 2 to 10\n",
    "print(range(2,10,3)) # 2 to 10\n",
    "print(range(10,10)) # 2 to 10\n",
    "print(type(range(1,10))) # range\n",
    "\n",
    "def findNum()->dict:\n",
    "    return ()\n",
    "\n",
    "print(type(findNum()))\n",
    "\n"
   ]
  },
  {
   "cell_type": "code",
   "execution_count": 101,
   "metadata": {},
   "outputs": [
    {
     "name": "stdout",
     "output_type": "stream",
     "text": [
      "[6, 12, 18, 24, 30, 36]\n",
      "[1, 3, 5, 7, 9, 11]\n",
      "runs after the loop\n"
     ]
    }
   ],
   "source": [
    "# for i in range(10):\n",
    "#     print(i+1)\n",
    "# for i in range(10,20):\n",
    "#     print(i+1)\n",
    "# for i in range(10,20,2):\n",
    "#     print(i+1)\n",
    "# for i in range(10,0,2):\n",
    "#     print(i+1)\n",
    "\n",
    "\n",
    "li = [1,2,3,4,5,6,7,8,9]\n",
    "li2 = tuple([1,2,3,4,5,6,7,8,9,10,11,12,'asgok'])\n",
    "\n",
    "even = []\n",
    "odd = []\n",
    "\n",
    "for i in li2:\n",
    "    if(type(i)==str):\n",
    "        continue\n",
    "    elif(type(i)==int):\n",
    "        pass\n",
    "    if(i%2==0):\n",
    "        even.append(i*3)\n",
    "    else:\n",
    "        odd.append(i)\n",
    "else:\n",
    "    print(even)\n",
    "    print(odd)\n",
    "    print('runs after the loop')\n"
   ]
  },
  {
   "cell_type": "code",
   "execution_count": 68,
   "metadata": {},
   "outputs": [
    {
     "name": "stdout",
     "output_type": "stream",
     "text": [
      "* \n",
      "* * \n",
      "* * * \n"
     ]
    }
   ],
   "source": [
    "def pypart(n=3):\n",
    "     \n",
    "    # outer loop to handle number of rows\n",
    "    # n in this case\n",
    "    for i in range(n):\n",
    "     \n",
    "        # inner loop to handle number of columns\n",
    "        # values changing acc. to outer loop\n",
    "        for j in range(i+1):\n",
    "         \n",
    "            # printing stars\n",
    "            print(\"* \",end='')\n",
    "      \n",
    "        # ending line after each row\n",
    "        print(\"\\r\")\n",
    " \n",
    "# Driver Code\n",
    "pypart()"
   ]
  },
  {
   "cell_type": "code",
   "execution_count": 94,
   "metadata": {},
   "outputs": [
    {
     "name": "stdout",
     "output_type": "stream",
     "text": [
      "[0, 2]\n"
     ]
    }
   ],
   "source": [
    "li = [1,2,3,4,5,6,7,8,9]\n",
    "li2 = tuple([1,2,3,4,5,6,7,8,9,10,11,12,'asgok'])\n",
    "\n",
    "start = 0\n",
    "end = len(li)\n",
    "\n",
    "evn = []\n",
    "\n",
    "while start<end:\n",
    "    if(type(start)==str):\n",
    "        continue\n",
    "    elif(type(start)==int):\n",
    "        pass\n",
    "    if(li[start]%2!=0):\n",
    "        if(start == 4):\n",
    "            break\n",
    "        evn.append(start)\n",
    "    start += 1\n",
    "    # print(start)\n",
    "else:\n",
    "    print('i will run after the while')\n",
    "\n",
    "print(evn)\n",
    "\n",
    "# while startend:\n"
   ]
  }
 ],
 "metadata": {
  "kernelspec": {
   "display_name": "Python 3",
   "language": "python",
   "name": "python3"
  },
  "language_info": {
   "codemirror_mode": {
    "name": "ipython",
    "version": 3
   },
   "file_extension": ".py",
   "mimetype": "text/x-python",
   "name": "python",
   "nbconvert_exporter": "python",
   "pygments_lexer": "ipython3",
   "version": "3.10.4"
  },
  "orig_nbformat": 4,
  "vscode": {
   "interpreter": {
    "hash": "aef0ad5cd858520acf7a7a5e6810764bf6b17c229c37f21e929fa08adc6f6002"
   }
  }
 },
 "nbformat": 4,
 "nbformat_minor": 2
}
