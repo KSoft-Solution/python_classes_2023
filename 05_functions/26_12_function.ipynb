{
 "cells": [
  {
   "cell_type": "code",
   "execution_count": null,
   "metadata": {},
   "outputs": [],
   "source": [
    "# names:list = [];\n",
    "# names = {\n",
    "#     \"name\":\"ashok\"\n",
    "# };\n",
    "\n",
    "\n",
    "# if():\n",
    "#      True;\n",
    "#      if():\n",
    "#         True\n",
    "\n",
    "\n",
    "# def names1():\n",
    "#     def names2():\n",
    "\n"
   ]
  },
  {
   "cell_type": "code",
   "execution_count": 8,
   "metadata": {},
   "outputs": [
    {
     "ename": "NameError",
     "evalue": "name 'inner' is not defined",
     "output_type": "error",
     "traceback": [
      "\u001b[1;31m---------------------------------------------------------------------------\u001b[0m",
      "\u001b[1;31mNameError\u001b[0m                                 Traceback (most recent call last)",
      "\u001b[1;32md:\\KSoft\\python\\05_functions\\26_12_function.ipynb Cell 2\u001b[0m in \u001b[0;36m<cell line: 11>\u001b[1;34m()\u001b[0m\n\u001b[0;32m      <a href='vscode-notebook-cell:/d%3A/KSoft/python/05_functions/26_12_function.ipynb#W1sZmlsZQ%3D%3D?line=7'>8</a>\u001b[0m     inner \u001b[39m=\u001b[39m \u001b[39m'\u001b[39m\u001b[39mInner variable\u001b[39m\u001b[39m'\u001b[39m\n\u001b[0;32m      <a href='vscode-notebook-cell:/d%3A/KSoft/python/05_functions/26_12_function.ipynb#W1sZmlsZQ%3D%3D?line=8'>9</a>\u001b[0m     \u001b[39mprint\u001b[39m(inner)\n\u001b[1;32m---> <a href='vscode-notebook-cell:/d%3A/KSoft/python/05_functions/26_12_function.ipynb#W1sZmlsZQ%3D%3D?line=10'>11</a>\u001b[0m \u001b[39mprint\u001b[39m(inner)\n\u001b[0;32m     <a href='vscode-notebook-cell:/d%3A/KSoft/python/05_functions/26_12_function.ipynb#W1sZmlsZQ%3D%3D?line=13'>14</a>\u001b[0m _functionname()\n",
      "\u001b[1;31mNameError\u001b[0m: name 'inner' is not defined"
     ]
    }
   ],
   "source": [
    "# function without parameter\n",
    "outer = 'Outer variable'\n",
    "\n",
    "\n",
    "def _functionname(): # function declaration part\n",
    "    print(outer)\n",
    "    \n",
    "    inner = 'Inner variable'\n",
    "    print(inner)\n",
    "\n",
    "# print(inner)\n",
    "\n",
    "\n",
    "_functionname() # function calling part"
   ]
  },
  {
   "cell_type": "code",
   "execution_count": 14,
   "metadata": {},
   "outputs": [
    {
     "name": "stdout",
     "output_type": "stream",
     "text": [
      "ashok Sahu\n",
      "28\n",
      "Software developer\n",
      "Bhubaneswar\n"
     ]
    }
   ],
   "source": [
    "# name = 'Ashok Sahu'\n",
    "# age = 28\n",
    "# jb = 'Software developer'\n",
    "# location  = 'Bhubaneswar'\n",
    "\n",
    "def with_parameter(name,age,job,location): # function with parameter\n",
    "    print(name)\n",
    "    print(age)\n",
    "    print(job)\n",
    "    print(location)\n",
    "\n",
    "with_parameter(\"ashok Sahu\",28,\"Software developer\",\"Bhubaneswar\") # argumnets"
   ]
  },
  {
   "cell_type": "code",
   "execution_count": 17,
   "metadata": {},
   "outputs": [
    {
     "name": "stdout",
     "output_type": "stream",
     "text": [
      "ashok Sahu\n",
      "28\n",
      "Software developer\n",
      "Bhubaneswar\n"
     ]
    }
   ],
   "source": [
    "def with_parameter(name,age,job,location='Bhubaneswar'): # function with parameter\n",
    "    print(name)\n",
    "    print(age)\n",
    "    print(job)\n",
    "    print(location)\n",
    "\n",
    "with_parameter(\"ashok Sahu\",28,\"Software developer\") # argumnets"
   ]
  },
  {
   "cell_type": "code",
   "execution_count": 21,
   "metadata": {},
   "outputs": [
    {
     "name": "stdout",
     "output_type": "stream",
     "text": [
      "ashok Sahu\n",
      "Software developer\n",
      "Fullstack engineer\n",
      "Bhubaneswar\n"
     ]
    }
   ],
   "source": [
    "def with_parameter(name,age,job=\"Fullstack engineer\",location='Bhubaneswar'): # function with parameter\n",
    "    print(name)\n",
    "    print(age)\n",
    "    print(job)\n",
    "    print(location)\n",
    "\n",
    "with_parameter(\"ashok Sahu\",28,\"Software developer\") # argumnets"
   ]
  },
  {
   "cell_type": "code",
   "execution_count": null,
   "metadata": {},
   "outputs": [],
   "source": [
    "def with_parameter(name,age,job=\"Fullstack engineer\",location='Bhubaneswar'): # function with parameter\n",
    "    print(name)\n",
    "    print(age)\n",
    "    print(job)\n",
    "    print(location)\n",
    "\n",
    "with_parameter(\"ashok Sahu\",\"Software developer\") # argumnets"
   ]
  },
  {
   "cell_type": "code",
   "execution_count": 23,
   "metadata": {},
   "outputs": [
    {
     "name": "stdout",
     "output_type": "stream",
     "text": [
      "ashok Sahu\n",
      "Software developer\n",
      "girisola\n",
      "xyz\n"
     ]
    }
   ],
   "source": [
    "def with_parameter(name,age=28,job=\"Fullstack engineer\",location='transactions'): # function with parameter\n",
    "    print(name)\n",
    "    print(age)\n",
    "    print(job)\n",
    "    print(location)\n",
    "\n",
    "with_parameter(\"ashok Sahu\",\"Software developer\",\"girisola\",'xyz') # argumnets"
   ]
  }
 ],
 "metadata": {
  "kernelspec": {
   "display_name": "Python 3",
   "language": "python",
   "name": "python3"
  },
  "language_info": {
   "codemirror_mode": {
    "name": "ipython",
    "version": 3
   },
   "file_extension": ".py",
   "mimetype": "text/x-python",
   "name": "python",
   "nbconvert_exporter": "python",
   "pygments_lexer": "ipython3",
   "version": "3.10.4 (tags/v3.10.4:9d38120, Mar 23 2022, 23:13:41) [MSC v.1929 64 bit (AMD64)]"
  },
  "orig_nbformat": 4,
  "vscode": {
   "interpreter": {
    "hash": "aef0ad5cd858520acf7a7a5e6810764bf6b17c229c37f21e929fa08adc6f6002"
   }
  }
 },
 "nbformat": 4,
 "nbformat_minor": 2
}
