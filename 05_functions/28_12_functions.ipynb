{
 "cells": [
  {
   "cell_type": "code",
   "execution_count": null,
   "metadata": {},
   "outputs": [],
   "source": [
    "def function_name(name,job='developer'):\n",
    "    print(job)\n",
    "\n",
    "function_name(\"ksoft\")"
   ]
  },
  {
   "cell_type": "code",
   "execution_count": null,
   "metadata": {},
   "outputs": [],
   "source": [
    "def arguments(arg1,arg3,arg2):\n",
    "    print(arg1)\n",
    "    print(arg3)\n",
    "    print(arg2)\n",
    "\n",
    "arguments('Arguments1','arguments2',\"arguments3\")"
   ]
  },
  {
   "cell_type": "code",
   "execution_count": null,
   "metadata": {},
   "outputs": [],
   "source": [
    "def arguments(arg1,arg3,arg2):\n",
    "    print(arg1)\n",
    "    print(arg3)\n",
    "    print(arg2)\n",
    "\n",
    "arguments(arg1='Arguments1',arg2='arguments2',arg3=\"arguments3\")"
   ]
  },
  {
   "cell_type": "code",
   "execution_count": 15,
   "metadata": {},
   "outputs": [
    {
     "name": "stdout",
     "output_type": "stream",
     "text": [
      "({'name': 'ashok', 'job': 'developer'},)\n",
      "8\n"
     ]
    }
   ],
   "source": [
    "argmts = {\n",
    "    \"name\":\"ashok\",\n",
    "    \"job\":\"developer\"\n",
    "}\n",
    "\n",
    "def arguments(*argss):\n",
    "    print(argss)\n",
    "    # print(type(argss))\n",
    "    \n",
    "\n",
    "# arguments('Arguments1','arguments2',\"arguments3\")\n",
    "arguments(argmts)\n",
    "\n",
    "print(2**3)"
   ]
  },
  {
   "cell_type": "code",
   "execution_count": 16,
   "metadata": {},
   "outputs": [
    {
     "name": "stdout",
     "output_type": "stream",
     "text": [
      "Operator precedence\n",
      "*******************\n",
      "\n",
      "The following table summarizes the operator precedence in Python, from\n",
      "highest precedence (most binding) to lowest precedence (least\n",
      "binding).  Operators in the same box have the same precedence.  Unless\n",
      "the syntax is explicitly given, operators are binary.  Operators in\n",
      "the same box group left to right (except for exponentiation, which\n",
      "groups from right to left).\n",
      "\n",
      "Note that comparisons, membership tests, and identity tests, all have\n",
      "the same precedence and have a left-to-right chaining feature as\n",
      "described in the Comparisons section.\n",
      "\n",
      "+-------------------------------------------------+---------------------------------------+\n",
      "| Operator                                        | Description                           |\n",
      "|=================================================|=======================================|\n",
      "| \"(expressions...)\",  \"[expressions...]\", \"{key: | Binding or parenthesized expression,  |\n",
      "| value...}\", \"{expressions...}\"                  | list display, dictionary display, set |\n",
      "|                                                 | display                               |\n",
      "+-------------------------------------------------+---------------------------------------+\n",
      "| \"x[index]\", \"x[index:index]\",                   | Subscription, slicing, call,          |\n",
      "| \"x(arguments...)\", \"x.attribute\"                | attribute reference                   |\n",
      "+-------------------------------------------------+---------------------------------------+\n",
      "| \"await\" \"x\"                                     | Await expression                      |\n",
      "+-------------------------------------------------+---------------------------------------+\n",
      "| \"**\"                                            | Exponentiation [5]                    |\n",
      "+-------------------------------------------------+---------------------------------------+\n",
      "| \"+x\", \"-x\", \"~x\"                                | Positive, negative, bitwise NOT       |\n",
      "+-------------------------------------------------+---------------------------------------+\n",
      "| \"*\", \"@\", \"/\", \"//\", \"%\"                        | Multiplication, matrix                |\n",
      "|                                                 | multiplication, division, floor       |\n",
      "|                                                 | division, remainder [6]               |\n",
      "+-------------------------------------------------+---------------------------------------+\n",
      "| \"+\", \"-\"                                        | Addition and subtraction              |\n",
      "+-------------------------------------------------+---------------------------------------+\n",
      "| \"<<\", \">>\"                                      | Shifts                                |\n",
      "+-------------------------------------------------+---------------------------------------+\n",
      "| \"&\"                                             | Bitwise AND                           |\n",
      "+-------------------------------------------------+---------------------------------------+\n",
      "| \"^\"                                             | Bitwise XOR                           |\n",
      "+-------------------------------------------------+---------------------------------------+\n",
      "| \"|\"                                             | Bitwise OR                            |\n",
      "+-------------------------------------------------+---------------------------------------+\n",
      "| \"in\", \"not in\", \"is\", \"is not\", \"<\", \"<=\", \">\", | Comparisons, including membership     |\n",
      "| \">=\", \"!=\", \"==\"                                | tests and identity tests              |\n",
      "+-------------------------------------------------+---------------------------------------+\n",
      "| \"not\" \"x\"                                       | Boolean NOT                           |\n",
      "+-------------------------------------------------+---------------------------------------+\n",
      "| \"and\"                                           | Boolean AND                           |\n",
      "+-------------------------------------------------+---------------------------------------+\n",
      "| \"or\"                                            | Boolean OR                            |\n",
      "+-------------------------------------------------+---------------------------------------+\n",
      "| \"if\" – \"else\"                                   | Conditional expression                |\n",
      "+-------------------------------------------------+---------------------------------------+\n",
      "| \"lambda\"                                        | Lambda expression                     |\n",
      "+-------------------------------------------------+---------------------------------------+\n",
      "| \":=\"                                            | Assignment expression                 |\n",
      "+-------------------------------------------------+---------------------------------------+\n",
      "\n",
      "-[ Footnotes ]-\n",
      "\n",
      "[1] While \"abs(x%y) < abs(y)\" is true mathematically, for floats it\n",
      "    may not be true numerically due to roundoff.  For example, and\n",
      "    assuming a platform on which a Python float is an IEEE 754 double-\n",
      "    precision number, in order that \"-1e-100 % 1e100\" have the same\n",
      "    sign as \"1e100\", the computed result is \"-1e-100 + 1e100\", which\n",
      "    is numerically exactly equal to \"1e100\".  The function\n",
      "    \"math.fmod()\" returns a result whose sign matches the sign of the\n",
      "    first argument instead, and so returns \"-1e-100\" in this case.\n",
      "    Which approach is more appropriate depends on the application.\n",
      "\n",
      "[2] If x is very close to an exact integer multiple of y, it’s\n",
      "    possible for \"x//y\" to be one larger than \"(x-x%y)//y\" due to\n",
      "    rounding.  In such cases, Python returns the latter result, in\n",
      "    order to preserve that \"divmod(x,y)[0] * y + x % y\" be very close\n",
      "    to \"x\".\n",
      "\n",
      "[3] The Unicode standard distinguishes between *code points* (e.g.\n",
      "    U+0041) and *abstract characters* (e.g. “LATIN CAPITAL LETTER A”).\n",
      "    While most abstract characters in Unicode are only represented\n",
      "    using one code point, there is a number of abstract characters\n",
      "    that can in addition be represented using a sequence of more than\n",
      "    one code point.  For example, the abstract character “LATIN\n",
      "    CAPITAL LETTER C WITH CEDILLA” can be represented as a single\n",
      "    *precomposed character* at code position U+00C7, or as a sequence\n",
      "    of a *base character* at code position U+0043 (LATIN CAPITAL\n",
      "    LETTER C), followed by a *combining character* at code position\n",
      "    U+0327 (COMBINING CEDILLA).\n",
      "\n",
      "    The comparison operators on strings compare at the level of\n",
      "    Unicode code points. This may be counter-intuitive to humans.  For\n",
      "    example, \"\"\\u00C7\" == \"\\u0043\\u0327\"\" is \"False\", even though both\n",
      "    strings represent the same abstract character “LATIN CAPITAL\n",
      "    LETTER C WITH CEDILLA”.\n",
      "\n",
      "    To compare strings at the level of abstract characters (that is,\n",
      "    in a way intuitive to humans), use \"unicodedata.normalize()\".\n",
      "\n",
      "[4] Due to automatic garbage-collection, free lists, and the dynamic\n",
      "    nature of descriptors, you may notice seemingly unusual behaviour\n",
      "    in certain uses of the \"is\" operator, like those involving\n",
      "    comparisons between instance methods, or constants.  Check their\n",
      "    documentation for more info.\n",
      "\n",
      "[5] The power operator \"**\" binds less tightly than an arithmetic or\n",
      "    bitwise unary operator on its right, that is, \"2**-1\" is \"0.5\".\n",
      "\n",
      "[6] The \"%\" operator is also used for string formatting; the same\n",
      "    precedence applies.\n",
      "\n",
      "Related help topics: lambda, or, and, not, in, is, BOOLEAN, COMPARISON,\n",
      "BITWISE, SHIFTING, BINARY, FORMATTING, POWER, UNARY, ATTRIBUTES,\n",
      "SUBSCRIPTS, SLICINGS, CALLS, TUPLES, LISTS, DICTIONARIES\n",
      "\n"
     ]
    }
   ],
   "source": [
    "help('*')"
   ]
  },
  {
   "cell_type": "code",
   "execution_count": 20,
   "metadata": {},
   "outputs": [
    {
     "ename": "NameError",
     "evalue": "name 'nums' is not defined",
     "output_type": "error",
     "traceback": [
      "\u001b[1;31m---------------------------------------------------------------------------\u001b[0m",
      "\u001b[1;31mNameError\u001b[0m                                 Traceback (most recent call last)",
      "\u001b[1;32md:\\KSoft\\python\\05_functions\\28_12_functions.ipynb Cell 6\u001b[0m in \u001b[0;36m<cell line: 1>\u001b[1;34m()\u001b[0m\n\u001b[1;32m----> <a href='vscode-notebook-cell:/d%3A/KSoft/python/05_functions/28_12_functions.ipynb#W5sZmlsZQ%3D%3D?line=0'>1</a>\u001b[0m \u001b[39mprint\u001b[39m(nums)\n\u001b[0;32m      <a href='vscode-notebook-cell:/d%3A/KSoft/python/05_functions/28_12_functions.ipynb#W5sZmlsZQ%3D%3D?line=1'>2</a>\u001b[0m nums \u001b[39m=\u001b[39m \u001b[39m10\u001b[39m\n",
      "\u001b[1;31mNameError\u001b[0m: name 'nums' is not defined"
     ]
    }
   ],
   "source": [
    "print(nums)\n",
    "nums = 10"
   ]
  },
  {
   "cell_type": "code",
   "execution_count": 27,
   "metadata": {},
   "outputs": [
    {
     "ename": "NameError",
     "evalue": "name 'whos' is not defined",
     "output_type": "error",
     "traceback": [
      "\u001b[1;31m---------------------------------------------------------------------------\u001b[0m",
      "\u001b[1;31mNameError\u001b[0m                                 Traceback (most recent call last)",
      "\u001b[1;32md:\\KSoft\\python\\05_functions\\28_12_functions.ipynb Cell 7\u001b[0m in \u001b[0;36m<cell line: 1>\u001b[1;34m()\u001b[0m\n\u001b[1;32m----> <a href='vscode-notebook-cell:/d%3A/KSoft/python/05_functions/28_12_functions.ipynb#W6sZmlsZQ%3D%3D?line=0'>1</a>\u001b[0m whos()\n\u001b[0;32m      <a href='vscode-notebook-cell:/d%3A/KSoft/python/05_functions/28_12_functions.ipynb#W6sZmlsZQ%3D%3D?line=1'>2</a>\u001b[0m \u001b[39mdef\u001b[39;00m \u001b[39mi_m\u001b[39m():\n\u001b[0;32m      <a href='vscode-notebook-cell:/d%3A/KSoft/python/05_functions/28_12_functions.ipynb#W6sZmlsZQ%3D%3D?line=2'>3</a>\u001b[0m     \u001b[39mprint\u001b[39m(\u001b[39m'\u001b[39m\u001b[39mhi\u001b[39m\u001b[39m'\u001b[39m)\n",
      "\u001b[1;31mNameError\u001b[0m: name 'whos' is not defined"
     ]
    }
   ],
   "source": [
    "whos()\n",
    "def i_m():\n",
    "    print('hi')\n",
    "whos = i_m\n",
    "# who()"
   ]
  },
  {
   "cell_type": "code",
   "execution_count": 39,
   "metadata": {},
   "outputs": [
    {
     "ename": "NameError",
     "evalue": "name 'i_am_ashoksss' is not defined",
     "output_type": "error",
     "traceback": [
      "\u001b[1;31m---------------------------------------------------------------------------\u001b[0m",
      "\u001b[1;31mNameError\u001b[0m                                 Traceback (most recent call last)",
      "\u001b[1;32md:\\KSoft\\python\\05_functions\\28_12_functions.ipynb Cell 8\u001b[0m in \u001b[0;36m<cell line: 1>\u001b[1;34m()\u001b[0m\n\u001b[1;32m----> <a href='vscode-notebook-cell:/d%3A/KSoft/python/05_functions/28_12_functions.ipynb#X10sZmlsZQ%3D%3D?line=0'>1</a>\u001b[0m i_am_ashoksss()\n\u001b[0;32m      <a href='vscode-notebook-cell:/d%3A/KSoft/python/05_functions/28_12_functions.ipynb#X10sZmlsZQ%3D%3D?line=1'>2</a>\u001b[0m \u001b[39mdef\u001b[39;00m \u001b[39mi_am_ashoksss\u001b[39m():\n\u001b[0;32m      <a href='vscode-notebook-cell:/d%3A/KSoft/python/05_functions/28_12_functions.ipynb#X10sZmlsZQ%3D%3D?line=2'>3</a>\u001b[0m     \u001b[39mprint\u001b[39m(\u001b[39m'\u001b[39m\u001b[39m i am ashok sahu\u001b[39m\u001b[39m'\u001b[39m)\n",
      "\u001b[1;31mNameError\u001b[0m: name 'i_am_ashoksss' is not defined"
     ]
    }
   ],
   "source": [
    "i_am_ashoksss()\n",
    "def i_am_ashoksss():\n",
    "    print(' i am ashok sahu')\n",
    "\n",
    "\n",
    "# i_am_ashokss()"
   ]
  },
  {
   "cell_type": "code",
   "execution_count": 50,
   "metadata": {},
   "outputs": [
    {
     "name": "stdout",
     "output_type": "stream",
     "text": [
      "i am single quote string\n",
      "i am double quote string\n",
      "i am triple single quote string\n",
      "i am triple double quote string\n",
      "hi\n",
      "i am doc string\n",
      "    i am also a string\n",
      "    \n"
     ]
    }
   ],
   "source": [
    "str1 = 'i am single quote string'\n",
    "str2 = \"i am double quote string\"\n",
    "str3 = '''i am triple single quote string'''\n",
    "str4 = \"\"\"i am triple double quote string\"\"\"\n",
    "\n",
    "\n",
    "print(str1)\n",
    "print(str2)\n",
    "print(str3)\n",
    "print(str4)\n",
    "\n",
    "def docStr():\n",
    "    \"\"\"i am doc string\n",
    "    i am also a string\n",
    "    \"\"\"\n",
    "    # '''i am doc string'''\n",
    "    # 'i am a string'\n",
    "    # \"i am a string\n",
    "    # i am also a string\n",
    "    # \"\n",
    "    print('hi')\n",
    "\n",
    "docStr()\n",
    "print(docStr.__doc__)\n"
   ]
  }
 ],
 "metadata": {
  "kernelspec": {
   "display_name": "Python 3",
   "language": "python",
   "name": "python3"
  },
  "language_info": {
   "codemirror_mode": {
    "name": "ipython",
    "version": 3
   },
   "file_extension": ".py",
   "mimetype": "text/x-python",
   "name": "python",
   "nbconvert_exporter": "python",
   "pygments_lexer": "ipython3",
   "version": "3.10.4 (tags/v3.10.4:9d38120, Mar 23 2022, 23:13:41) [MSC v.1929 64 bit (AMD64)]"
  },
  "orig_nbformat": 4,
  "vscode": {
   "interpreter": {
    "hash": "aef0ad5cd858520acf7a7a5e6810764bf6b17c229c37f21e929fa08adc6f6002"
   }
  }
 },
 "nbformat": 4,
 "nbformat_minor": 2
}
