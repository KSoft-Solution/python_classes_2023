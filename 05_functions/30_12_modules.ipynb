{
 "cells": [
  {
   "cell_type": "code",
   "execution_count": 10,
   "metadata": {},
   "outputs": [
    {
     "name": "stdout",
     "output_type": "stream",
     "text": [
      "i am from inner\n",
      "i am from outer\n",
      "The filtered letters are:\n",
      "e\n",
      "e\n"
     ]
    }
   ],
   "source": [
    "# out_var = 10\n",
    "\n",
    "def outer():\n",
    "    out_val = 'i am from outer'\n",
    "    def inner():\n",
    "        inn_val = 'i am from inner'\n",
    "        print(inn_val)\n",
    "        print(out_val)\n",
    "        def inner_one():\n",
    "            inn1_val = 'i am inner one '\n",
    "            print(inn_val)\n",
    "            print(out_val)\n",
    "    inner()\n",
    "outer()\n",
    "\n",
    "\n",
    "# HOF                                      callback\n",
    "# def fn_hof(fn1)-> fn2              def callback()---value:\n",
    "#                                         def call()\n",
    "\n",
    "# function that filters vowels\n",
    "def fun(variable):\n",
    "    letters = ['a', 'e', 'i', 'o', 'u']\n",
    "    if (variable in letters):\n",
    "        return True\n",
    "    else:\n",
    "        return False\n",
    "  \n",
    "  \n",
    "# sequence\n",
    "sequence = ['g', 'e', 'e', 'j', 'k', 's', 'p', 'r']\n",
    "  \n",
    "# using filter function\n",
    "filtered = filter(fun, sequence)\n",
    "  \n",
    "print('The filtered letters are:')\n",
    "for s in filtered:\n",
    "    print(s)\n",
    "\n",
    "\n",
    "                                                \n",
    "\n"
   ]
  },
  {
   "cell_type": "code",
   "execution_count": 18,
   "metadata": {},
   "outputs": [
    {
     "name": "stdout",
     "output_type": "stream",
     "text": [
      "6\n"
     ]
    }
   ],
   "source": [
    "# lambda function or anonymous function\n",
    "\n",
    "multiple = lambda by2 : by2 * 2\n",
    "multiple(2)\n",
    "\n",
    "\n",
    "def multiple2xyz(by2):\n",
    "    return by2 * 3\n",
    "\n",
    "print(multiple2xyz(2))\n"
   ]
  },
  {
   "cell_type": "code",
   "execution_count": 22,
   "metadata": {},
   "outputs": [
    {
     "name": "stdout",
     "output_type": "stream",
     "text": [
      "[1, 3, 5, 13]\n",
      "[0, 2, 8]\n",
      "1.4142135623730951\n",
      "2.5\n"
     ]
    }
   ],
   "source": [
    "import  math\n",
    "seq = [0, 1, 2, 3, 5, 8, 13]\n",
    "  \n",
    "# result contains odd numbers of the list\n",
    "result = filter(lambda x: x % 2 != 0, seq)\n",
    "print(list(result))\n",
    "\n",
    "# result contains even numbers of the list\n",
    "result = filter(lambda x: x % 2 == 0, seq)\n",
    "print(list(result))\n",
    "\n",
    "print(math.sqrt(2))\n",
    "print(abs(-2.5))"
   ]
  }
 ],
 "metadata": {
  "kernelspec": {
   "display_name": "Python 3",
   "language": "python",
   "name": "python3"
  },
  "language_info": {
   "codemirror_mode": {
    "name": "ipython",
    "version": 3
   },
   "file_extension": ".py",
   "mimetype": "text/x-python",
   "name": "python",
   "nbconvert_exporter": "python",
   "pygments_lexer": "ipython3",
   "version": "3.10.4"
  },
  "orig_nbformat": 4,
  "vscode": {
   "interpreter": {
    "hash": "aef0ad5cd858520acf7a7a5e6810764bf6b17c229c37f21e929fa08adc6f6002"
   }
  }
 },
 "nbformat": 4,
 "nbformat_minor": 2
}
