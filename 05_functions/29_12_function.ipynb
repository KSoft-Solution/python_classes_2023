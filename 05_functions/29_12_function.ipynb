{
 "cells": [
  {
   "cell_type": "code",
   "execution_count": 5,
   "metadata": {},
   "outputs": [
    {
     "name": "stdout",
     "output_type": "stream",
     "text": [
      "hello world\n",
      "i am from ksoft solutions\n"
     ]
    }
   ],
   "source": [
    "# def ksoft():\n",
    "#     print('i am from ksoft solutions')\n",
    "\n",
    "# ksoft()\n",
    "# def ksoft():\n",
    "#     print('hello world')\n",
    "#     return 'i am from ksoft solutions'\n",
    "#     print('hello world')\n",
    "\n",
    "# print(ksoft())"
   ]
  },
  {
   "cell_type": "code",
   "execution_count": 13,
   "metadata": {},
   "outputs": [
    {
     "name": "stdout",
     "output_type": "stream",
     "text": [
      "welcome Kanha Sahu welcome subhashri sabat welcome subhalaxmi patro welcome ankita paigrahi welcome alekha naik welcome sibani nayak welcome sai charan welcome ahuti Sahu welcome rajesh patro welcome akash patro welcome tirumala raula\n"
     ]
    }
   ],
   "source": [
    "def know_your_name(name):\n",
    "    return f'welcome {name}'\n",
    "\n",
    "# know_your_name('Ashok sahu')\n",
    "\n",
    "kanha_ksoft = know_your_name('Kanha Sahu')\n",
    "subha_ksoft = know_your_name('subhashri sabat')\n",
    "subhalaxmi_ksoft = know_your_name('subhalaxmi patro')\n",
    "ankita_ksoft = know_your_name('ankita paigrahi')\n",
    "alekha_ksoft = know_your_name('alekha naik')\n",
    "sibani_ksoft = know_your_name('sibani nayak')\n",
    "sai_ksoft = know_your_name('sai charan')\n",
    "ahuti_ksoft = know_your_name('ahuti Sahu')\n",
    "rajesh_ksoft = know_your_name('rajesh patro')\n",
    "tirumala_ksoft = know_your_name('tirumala raula')\n",
    "ajit_ksoft = know_your_name('ajit pathan')\n",
    "akash_ksoft = know_your_name('akash patro')\n",
    "ram_ksoft = know_your_name('ramnarayan')\n",
    "vivek_ksoft = know_your_name('vivek Sahu')\n",
    "priyali_ksoft = know_your_name('priyali XXX')\n",
    "debashis_ksoft = know_your_name('debshis padhy')\n",
    "\n",
    "print(kanha_ksoft,subha_ksoft,subhalaxmi_ksoft,ankita_ksoft,alekha_ksoft,sibani_ksoft,sai_ksoft,ahuti_ksoft,rajesh_ksoft,akash_ksoft,tirumala_ksoft)\n"
   ]
  },
  {
   "cell_type": "code",
   "execution_count": 18,
   "metadata": {},
   "outputs": [
    {
     "name": "stdout",
     "output_type": "stream",
     "text": [
      "4\n",
      "676\n",
      "774341929\n",
      "2203131159250576\n"
     ]
    }
   ],
   "source": [
    "def sqrt_of_num(num:int)->int:\n",
    "    return num * num\n",
    "\n",
    "print(sqrt_of_num(2))\n",
    "print(sqrt_of_num(26))\n",
    "print(sqrt_of_num(27827))\n",
    "print(sqrt_of_num(46937524))\n",
    "# print(sqrt_of_num('2ncbjk'))"
   ]
  },
  {
   "cell_type": "code",
   "execution_count": 24,
   "metadata": {},
   "outputs": [
    {
     "name": "stdout",
     "output_type": "stream",
     "text": [
      "500\n"
     ]
    }
   ],
   "source": [
    "# def cube_of_num(num:int)->int:\n",
    "#     return num * num * num\n",
    "\n",
    "def cube_of_num(fn:int,num:int)->int:\n",
    "    return fn * num\n",
    "\n",
    "print(cube_of_num(sqrt_of_num(10),5))\n",
    "# print(cube_of_num(sqrt_of_num(2),2))\n",
    "\n",
    "# print(cube_of_num(2))\n",
    "# print(cube_of_num(8))\n",
    "# print(cube_of_num(512))"
   ]
  },
  {
   "cell_type": "code",
   "execution_count": 38,
   "metadata": {},
   "outputs": [
    {
     "name": "stdout",
     "output_type": "stream",
     "text": [
      "3 X 5 = 15\n",
      "3 X 6 = 18\n",
      "3 X 7 = 21\n",
      "3 X 8 = 24\n",
      "3 X 9 = 27\n",
      "3 X 10 = 30\n"
     ]
    }
   ],
   "source": [
    "def multiple(num):\n",
    "    for xx in range(5,11):\n",
    "        print(f'{num} X {xx} = {num*(xx)}')\n",
    "\n",
    "\n",
    "# multiple_of_2 = multiple(2)\n",
    "multiple_of_3 = multiple(3)\n",
    "# multiple_of_4 = multiple(4)\n",
    "\n",
    "# multiple_of_2\n",
    "multiple_of_3\n",
    "\n",
    "# print(multiple_of_3)\n",
    "# print(multiple_of_4)\n",
    "\n",
    "\n"
   ]
  },
  {
   "cell_type": "code",
   "execution_count": 44,
   "metadata": {},
   "outputs": [
    {
     "name": "stdout",
     "output_type": "stream",
     "text": [
      "1 is a odd number\n",
      "2 is a even number\n",
      "3 is a odd number\n",
      "4 is a even number\n",
      "5 is a odd number\n",
      "6 is a even number\n",
      "7 is a odd number\n",
      "8 is a even number\n",
      "9 is a odd number\n",
      "10 is a even number\n"
     ]
    }
   ],
   "source": [
    "# is_even = int(input('enter any number : '))\n",
    "# print(is_even%2==0)\n",
    "\n",
    "def check_even_odd_in_range():\n",
    "    for i in range(1,11):\n",
    "        \"\"\"checking for even numbers\"\"\"\n",
    "        if(i%2==0):\n",
    "            print(f'{i} is a even number')\n",
    "        \"\"\"checking for odd numbers\"\"\"\n",
    "        if(i%2!=0):\n",
    "            print(f'{i} is a odd number')\n",
    "\n",
    "        \n",
    "check_even_odd_in_range()\n",
    "\n"
   ]
  },
  {
   "cell_type": "code",
   "execution_count": 45,
   "metadata": {},
   "outputs": [
    {
     "data": {
      "text/plain": [
       "3.142857142857143"
      ]
     },
     "execution_count": 45,
     "metadata": {},
     "output_type": "execute_result"
    }
   ],
   "source": [
    "def value_of_PI():\n",
    "    return 22/7\n",
    "\n",
    "value_of_PI()"
   ]
  },
  {
   "cell_type": "code",
   "execution_count": 4,
   "metadata": {},
   "outputs": [
    {
     "ename": "TypeError",
     "evalue": "arguments_with_keywords() takes 0 positional arguments but 5 were given",
     "output_type": "error",
     "traceback": [
      "\u001b[1;31m---------------------------------------------------------------------------\u001b[0m",
      "\u001b[1;31mTypeError\u001b[0m                                 Traceback (most recent call last)",
      "\u001b[1;32md:\\KSoft\\python\\05_functions\\29_12_function.ipynb Cell 8\u001b[0m in \u001b[0;36m<cell line: 11>\u001b[1;34m()\u001b[0m\n\u001b[0;32m      <a href='vscode-notebook-cell:/d%3A/KSoft/python/05_functions/29_12_function.ipynb#X10sZmlsZQ%3D%3D?line=7'>8</a>\u001b[0m     \u001b[39mfor\u001b[39;00m i \u001b[39min\u001b[39;00m keywords:\n\u001b[0;32m      <a href='vscode-notebook-cell:/d%3A/KSoft/python/05_functions/29_12_function.ipynb#X10sZmlsZQ%3D%3D?line=8'>9</a>\u001b[0m         \u001b[39mprint\u001b[39m(i)\n\u001b[1;32m---> <a href='vscode-notebook-cell:/d%3A/KSoft/python/05_functions/29_12_function.ipynb#X10sZmlsZQ%3D%3D?line=10'>11</a>\u001b[0m arguments_with_keywords(\u001b[39m'\u001b[39;49m\u001b[39ma\u001b[39;49m\u001b[39m'\u001b[39;49m,\u001b[39m'\u001b[39;49m\u001b[39ms\u001b[39;49m\u001b[39m'\u001b[39;49m,\u001b[39m'\u001b[39;49m\u001b[39mh\u001b[39;49m\u001b[39m'\u001b[39;49m,\u001b[39m'\u001b[39;49m\u001b[39mo\u001b[39;49m\u001b[39m'\u001b[39;49m,\u001b[39m'\u001b[39;49m\u001b[39mk\u001b[39;49m\u001b[39m'\u001b[39;49m)\n",
      "\u001b[1;31mTypeError\u001b[0m: arguments_with_keywords() takes 0 positional arguments but 5 were given"
     ]
    }
   ],
   "source": [
    "# def arguments_no_keywords(*keywords):\n",
    "#     for i in keywords:\n",
    "#         print(i)\n",
    "\n",
    "# arguments_no_keywords('a','s','h','o','k')\n",
    "\n",
    "def arguments_with_keywords(**keywords):\n",
    "    for i in keywords:\n",
    "        print(i)\n",
    "\n",
    "arguments_with_keywords(a='a',b='s',c='h',d='o',e='k')\n"
   ]
  }
 ],
 "metadata": {
  "kernelspec": {
   "display_name": "Python 3",
   "language": "python",
   "name": "python3"
  },
  "language_info": {
   "codemirror_mode": {
    "name": "ipython",
    "version": 3
   },
   "file_extension": ".py",
   "mimetype": "text/x-python",
   "name": "python",
   "nbconvert_exporter": "python",
   "pygments_lexer": "ipython3",
   "version": "3.10.4 (tags/v3.10.4:9d38120, Mar 23 2022, 23:13:41) [MSC v.1929 64 bit (AMD64)]"
  },
  "orig_nbformat": 4,
  "vscode": {
   "interpreter": {
    "hash": "aef0ad5cd858520acf7a7a5e6810764bf6b17c229c37f21e929fa08adc6f6002"
   }
  }
 },
 "nbformat": 4,
 "nbformat_minor": 2
}
