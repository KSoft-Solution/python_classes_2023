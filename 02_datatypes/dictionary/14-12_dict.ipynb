{
 "cells": [
  {
   "cell_type": "code",
   "execution_count": 8,
   "metadata": {},
   "outputs": [
    {
     "name": "stdout",
     "output_type": "stream",
     "text": [
      "{'name': 'ashok sahu', 'isMarried': False, 'age': 28, 'workExperiances': ['reactjs', 'nodejs', 'python', 'typesctipt'], 'companies': {\"don't know..\", 'AppsNDevices technology', 'protiviti India Pvt. Ltd.'}}\n",
      "<class 'dict'>\n"
     ]
    }
   ],
   "source": [
    "# dic = {}\n",
    "# print(type(dic))\n",
    "\n",
    "# li = [1,2]\n",
    "dicto = {\n",
    "    \"name\":\"ashok sahu\",   \n",
    "    \"isMarried\":False,\n",
    "    \"age\":28,\n",
    "    \"workExperiances\":[\n",
    "        \"reactjs\",\"nodejs\",\"python\",\"typesctipt\"\n",
    "    ],\n",
    "    \"companies\":{\n",
    "        \"AppsNDevices technology\",\n",
    "        \"protiviti India Pvt. Ltd.\",\n",
    "        \"don't know..\"\n",
    "    }\n",
    "}\n",
    "\n",
    "print(dicto)\n",
    "print(type(dicto))"
   ]
  },
  {
   "cell_type": "code",
   "execution_count": 24,
   "metadata": {},
   "outputs": [
    {
     "name": "stdout",
     "output_type": "stream",
     "text": [
      "ashok sahu\n"
     ]
    }
   ],
   "source": [
    "dicto = {\n",
    "    \"name\":\"ashok sahu\",   \n",
    "    \"isMarried\":False,\n",
    "    \"age\":28,\n",
    "    \"workExperiances\":[\n",
    "        \"reactjs\",\"nodejs\",\"python\",\"typesctipt\"\n",
    "    ],\n",
    "    \"companies\":{\n",
    "        \"AppsNDevices technology\",\n",
    "        \"protiviti India Pvt. Ltd.\",\n",
    "        \"don't know..\"\n",
    "    }\n",
    "}\n",
    "\n",
    "# print(dicto.get(\"name\"))\n",
    "# print(dicto.get(\"isMarried\"))\n",
    "# print(dicto.get(\"age\"))\n",
    "# print(dicto.get(\"workExperiance\"))\n",
    "# print(dicto.get(\"companies\"))\n",
    "\n",
    "# print(dicto.get(\"name\"[0]))\n",
    "\n",
    "# print(dicto.keys())\n",
    "# print(dicto.values())\n",
    "\n",
    "# print(\"age\" in dicto)\n",
    "# print(\"age\" not in dicto)\n",
    "\n",
    "\n",
    "print(dicto[\"name\"])\n",
    "\n",
    "\n"
   ]
  },
  {
   "cell_type": "code",
   "execution_count": 57,
   "metadata": {},
   "outputs": [
    {
     "name": "stdout",
     "output_type": "stream",
     "text": [
      "True\n",
      "True\n"
     ]
    }
   ],
   "source": [
    "dicto = {\n",
    "    \"name\":\"ashok sahu\",   \n",
    "    0:False,\n",
    "    \"age\":\" '\",\n",
    "    \"workExperiances\":[\n",
    "        \"reactjs\",\"nodejs\",\"python\",\"typesctipt\"\n",
    "    ],\n",
    "    \"companies\":{}\n",
    "}\n",
    "subhasri = {1,1,\" as\",True}\n",
    "\n",
    "print(all(subhasri))  \n",
    "print(any(subhasri))\n",
    "# print(len(kk))\n",
    "# print(len(dicto))\n",
    "# print(max(dicto))\n",
    "# print(min(dicto))\n",
    "# print(sorted(dicto))\n",
    "# print(sorted(dicto,reverse=True))\n",
    "# print(any(dicto))\n",
    "# print(all(dicto))"
   ]
  }
 ],
 "metadata": {
  "kernelspec": {
   "display_name": "Python 3",
   "language": "python",
   "name": "python3"
  },
  "language_info": {
   "codemirror_mode": {
    "name": "ipython",
    "version": 3
   },
   "file_extension": ".py",
   "mimetype": "text/x-python",
   "name": "python",
   "nbconvert_exporter": "python",
   "pygments_lexer": "ipython3",
   "version": "3.10.4 (tags/v3.10.4:9d38120, Mar 23 2022, 23:13:41) [MSC v.1929 64 bit (AMD64)]"
  },
  "orig_nbformat": 4,
  "vscode": {
   "interpreter": {
    "hash": "aef0ad5cd858520acf7a7a5e6810764bf6b17c229c37f21e929fa08adc6f6002"
   }
  }
 },
 "nbformat": 4,
 "nbformat_minor": 2
}
