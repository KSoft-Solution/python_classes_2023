{
 "cells": [
  {
   "cell_type": "code",
   "execution_count": 6,
   "metadata": {},
   "outputs": [
    {
     "name": "stdout",
     "output_type": "stream",
     "text": [
      "{'st': 'i am string'}\n",
      "{'num': 10}\n",
      "{'bool': True}\n",
      "{'li': [1, 2]}\n",
      "{'dict': {'dict1': 'dict1'}}\n",
      "{'str': 'i am a string', 'li': [1, 2, 3, 4], 'num': 12, 'bool': True, 'dict': {'di': 'i am dict'}}\n",
      "<class 'dict'>\n",
      "<class 'dict'>\n",
      "<class 'dict'>\n",
      "<class 'dict'>\n",
      "<class 'dict'>\n",
      "<class 'dict'>\n"
     ]
    }
   ],
   "source": [
    "# K_soft_dict = {}\n",
    "# print(K_soft_dict)\n",
    "# print(type(K_soft_dict))\n",
    "\n",
    "# K_soft_dict = {\n",
    "#     \"key\":\"value\"\n",
    "# }\n",
    "# print(K_soft_dict)\n",
    "\n",
    "K_soft_dict_str = {\n",
    "    \"st\":\"i am string\"\n",
    "}\n",
    "K_soft_dict_num = {\n",
    "    \"num\":10\n",
    "}\n",
    "K_soft_dict_boolean = {\n",
    "    \"bool\":True\n",
    "}\n",
    "K_soft_dict_li = {\n",
    "    \"li\":[1,2]\n",
    "}\n",
    "K_soft_dict_dict = {\n",
    "    \"dict\":{\n",
    "        \"dict1\":\"dict1\"\n",
    "    }\n",
    "}\n",
    "K_soft_dict_mix = {\n",
    "    \"str\":\"i am a string\",\n",
    "    \"li\":[1,2,3,4],\n",
    "    \"num\":12,\n",
    "    \"bool\":True,\n",
    "    \"dict\":{\n",
    "        \"di\":\"i am dict\"\n",
    "    }\n",
    "}\n",
    "\n",
    "print(K_soft_dict_str)\n",
    "print(K_soft_dict_num)\n",
    "print(K_soft_dict_boolean)\n",
    "print(K_soft_dict_li)\n",
    "print(K_soft_dict_dict)\n",
    "print(K_soft_dict_mix)\n",
    "\n",
    "print(type(K_soft_dict_str))\n",
    "print(type(K_soft_dict_num))\n",
    "print(type(K_soft_dict_boolean))\n",
    "print(type(K_soft_dict_li))\n",
    "print(type(K_soft_dict_dict))\n",
    "print(type(K_soft_dict_mix))\n",
    "\n",
    "\n",
    "\n",
    "\n"
   ]
  },
  {
   "cell_type": "code",
   "execution_count": 13,
   "metadata": {},
   "outputs": [
    {
     "name": "stdout",
     "output_type": "stream",
     "text": [
      "<class 'set'>\n",
      "{1, 2, 3, 4}\n"
     ]
    },
    {
     "ename": "AttributeError",
     "evalue": "'set' object has no attribute 'keys'",
     "output_type": "error",
     "traceback": [
      "\u001b[1;31m---------------------------------------------------------------------------\u001b[0m",
      "\u001b[1;31mAttributeError\u001b[0m                            Traceback (most recent call last)",
      "\u001b[1;32md:\\KSoft\\python\\dictionary\\15-12_dict.ipynb Cell 2\u001b[0m in \u001b[0;36m<cell line: 19>\u001b[1;34m()\u001b[0m\n\u001b[0;32m     <a href='vscode-notebook-cell:/d%3A/KSoft/python/dictionary/15-12_dict.ipynb#W1sZmlsZQ%3D%3D?line=16'>17</a>\u001b[0m \u001b[39mprint\u001b[39m(\u001b[39mtype\u001b[39m(dic1))\n\u001b[0;32m     <a href='vscode-notebook-cell:/d%3A/KSoft/python/dictionary/15-12_dict.ipynb#W1sZmlsZQ%3D%3D?line=17'>18</a>\u001b[0m \u001b[39mprint\u001b[39m(dic1)\n\u001b[1;32m---> <a href='vscode-notebook-cell:/d%3A/KSoft/python/dictionary/15-12_dict.ipynb#W1sZmlsZQ%3D%3D?line=18'>19</a>\u001b[0m \u001b[39mprint\u001b[39m(dic1\u001b[39m.\u001b[39;49mkeys())\n\u001b[0;32m     <a href='vscode-notebook-cell:/d%3A/KSoft/python/dictionary/15-12_dict.ipynb#W1sZmlsZQ%3D%3D?line=19'>20</a>\u001b[0m \u001b[39mprint\u001b[39m(dic1\u001b[39m.\u001b[39mvalues())\n",
      "\u001b[1;31mAttributeError\u001b[0m: 'set' object has no attribute 'keys'"
     ]
    }
   ],
   "source": [
    "dic = {\n",
    "    \"name\":\"ashok sahu\",\n",
    "    \"age\":28,\n",
    "    \"job\":\"software developer\",\n",
    "    \"location\":\"girisola\",\n",
    "    \"isMarried\":False,\n",
    "    \"gender\":\"male\"\n",
    "}\n",
    "# print(type(dic))\n",
    "\n",
    "# print(dic.keys())\n",
    "# print(dic.values())\n",
    "\n",
    "\n",
    "\n",
    "dic1 = {1,2,3,4}\n",
    "print(type(dic1))\n",
    "print(dic1)\n",
    "print(dic1.keys())\n",
    "print(dic1.values())"
   ]
  },
  {
   "cell_type": "code",
   "execution_count": 24,
   "metadata": {},
   "outputs": [
    {
     "name": "stdout",
     "output_type": "stream",
     "text": [
      "<class 'set'>\n",
      "<class 'dict'>\n"
     ]
    }
   ],
   "source": [
    "# st = {}\n",
    "# st1 = {}\n",
    "# st = {\"key\":\"valule\"}\n",
    "# st1 = {1,2,3}\n",
    "# st1 = {\"a\",\"b\",1,True}\n",
    "st = set({\"key\":\"valule\"})\n",
    "st1 = dict({\"a\":1})\n",
    "\n",
    "print(type(st))\n",
    "print(type(st1))"
   ]
  }
 ],
 "metadata": {
  "kernelspec": {
   "display_name": "Python 3",
   "language": "python",
   "name": "python3"
  },
  "language_info": {
   "codemirror_mode": {
    "name": "ipython",
    "version": 3
   },
   "file_extension": ".py",
   "mimetype": "text/x-python",
   "name": "python",
   "nbconvert_exporter": "python",
   "pygments_lexer": "ipython3",
   "version": "3.10.4 (tags/v3.10.4:9d38120, Mar 23 2022, 23:13:41) [MSC v.1929 64 bit (AMD64)]"
  },
  "orig_nbformat": 4,
  "vscode": {
   "interpreter": {
    "hash": "aef0ad5cd858520acf7a7a5e6810764bf6b17c229c37f21e929fa08adc6f6002"
   }
  }
 },
 "nbformat": 4,
 "nbformat_minor": 2
}
