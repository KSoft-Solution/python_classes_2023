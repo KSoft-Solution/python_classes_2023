{
 "cells": [
  {
   "cell_type": "code",
   "execution_count": 6,
   "metadata": {},
   "outputs": [
    {
     "name": "stdout",
     "output_type": "stream",
     "text": [
      "{'name': 'ashok sahu', 'job': 'software developer', 'age': 28, 'dob': '22/02/1995'}\n",
      "dict_keys(['name', 'job', 'age', 'dob'])\n",
      "dict_values(['ashok sahu', 'software developer', 28, '22/02/1995'])\n",
      "ashok sahu\n",
      "28\n",
      "software developer\n",
      "22/02/1995\n",
      "28\n"
     ]
    }
   ],
   "source": [
    "di = {\n",
    "    \"name\":\"ashok sahu\",\n",
    "    \"job\":\"software developer\",\n",
    "    \"age\":28,\n",
    "    \"dob\":'22/02/1995'\n",
    "}\n",
    "\n",
    "print(di)\n",
    "\n",
    "print(di.keys())\n",
    "print(di.values())\n",
    "\n",
    "\n",
    "# retive the items from a dictionary\n",
    "print(di.get(\"name\"))\n",
    "print(di.get(\"age\"))\n",
    "print(di.get(\"job\"))\n",
    "print(di.get(\"dob\"))\n",
    "\n",
    "print(di[\"age\"])\n",
    "\n",
    "# print(f'i am {di.get(\"name\")} ')\n",
    "\n",
    "\n",
    "\n"
   ]
  },
  {
   "cell_type": "code",
   "execution_count": 11,
   "metadata": {},
   "outputs": [
    {
     "name": "stdout",
     "output_type": "stream",
     "text": [
      "28\n",
      "28\n",
      "dict_keys(['name', 'job', 'age', 'dob'])\n",
      "27\n",
      "27\n",
      "dict_keys(['name', 'job', 'age', 'dob', 'location'])\n"
     ]
    }
   ],
   "source": [
    "di = {\n",
    "    \"name\":\"ashok sahu\",\n",
    "    \"job\":\"software developer\",\n",
    "    \"age\":28,\n",
    "    \"dob\":'22/02/1995'\n",
    "}\n",
    "\n",
    "print(di[\"age\"])\n",
    "print(di.get(\"age\"))\n",
    "\n",
    "print(di.keys())\n",
    "\n",
    "di[\"age\"] = 27\n",
    "di[\"village\"] = \"Girisola\"\n",
    "\n",
    "print(di[\"age\"])\n",
    "print(di.get(\"age\"))\n",
    "\n",
    "# di[\"location\"] = \"Girisola\"\n",
    "\n",
    "print(di.keys())"
   ]
  },
  {
   "cell_type": "code",
   "execution_count": 31,
   "metadata": {},
   "outputs": [
    {
     "name": "stdout",
     "output_type": "stream",
     "text": [
      "{'name': 'ashok sahu', 'job': 'software developer', 'age': 28, 'dob': '22/02/1995'}\n",
      "{'name': 'ashok sahu', 'job': 'software developer', 'dob': '22/02/1995'}\n"
     ]
    }
   ],
   "source": [
    "di = {\n",
    "    \"name\":\"ashok sahu\",\n",
    "    \"job\":\"software developer\",\n",
    "    \"age\":28,\n",
    "    \"dob\":'22/02/1995'\n",
    "}\n",
    "\n",
    "print(di)\n",
    "\n",
    "del di[\"age\"]\n",
    "\n",
    "print(di)\n",
    "# di.pop(\"dob\")\n",
    "# di.pop(\"name\")\n",
    "# di.pop(\"xyz\") # error (key is not present in dict)\n",
    "# print(di)\n",
    "\n",
    "# di.popitem()\n",
    "# di.popitem()\n",
    "# di.popitem()\n",
    "# di.popitem()\n",
    "# di.popitem() # if key exceded shows key error\n",
    "\n",
    "\n",
    "# di.clear()\n",
    "# print(di)\n",
    "\n",
    "# print(type(di.clear()))\n",
    "# print(type(di.pop(\"ag\")))\n",
    "# print(type(di.popitem()))\n",
    "\n",
    "# print(type({}))\n",
    "\n",
    "\n"
   ]
  },
  {
   "cell_type": "code",
   "execution_count": 41,
   "metadata": {},
   "outputs": [
    {
     "name": "stdout",
     "output_type": "stream",
     "text": [
      "{'name': 'ashok sahu', 'job': 'software developer', 'age': 28, 'dob': '22/02/1995'}\n",
      "{'name': 'ashok sahu', 'job': 'Full stack developer', 'age': 100, 'dob': '22/02/1995'}\n",
      "{'name': 'ashok sahu', 'job': 'data scientist', 'age': 34, 'dob': '22/02/1995'}\n"
     ]
    }
   ],
   "source": [
    "di = {\n",
    "    \"name\":\"ashok sahu\",\n",
    "    \"job\":\"software developer\",\n",
    "    \"age\":28,\n",
    "    \"dob\":'22/02/1995'\n",
    "}\n",
    "\n",
    "print(di)\n",
    "\n",
    "# print(di.keys())\n",
    "# print(di.values())\n",
    "# print(di.items())\n",
    "\n",
    "di[\"age\"] = 100\n",
    "di[\"job\"] = \"Full stack developer\"\n",
    "print(di)\n",
    "\n",
    "di.update(({\"age\":34,\"job\":\"data scientist\"}))\n",
    "print(di)"
   ]
  }
 ],
 "metadata": {
  "kernelspec": {
   "display_name": "Python 3",
   "language": "python",
   "name": "python3"
  },
  "language_info": {
   "codemirror_mode": {
    "name": "ipython",
    "version": 3
   },
   "file_extension": ".py",
   "mimetype": "text/x-python",
   "name": "python",
   "nbconvert_exporter": "python",
   "pygments_lexer": "ipython3",
   "version": "3.10.4"
  },
  "orig_nbformat": 4,
  "vscode": {
   "interpreter": {
    "hash": "aef0ad5cd858520acf7a7a5e6810764bf6b17c229c37f21e929fa08adc6f6002"
   }
  }
 },
 "nbformat": 4,
 "nbformat_minor": 2
}
