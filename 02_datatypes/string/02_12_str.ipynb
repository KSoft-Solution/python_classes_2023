{
 "cells": [
  {
   "cell_type": "code",
   "execution_count": 16,
   "metadata": {},
   "outputs": [
    {
     "name": "stdout",
     "output_type": "stream",
     "text": [
      "ashok\n",
      "['s', 'o', 'k', 'h', 'a']\n",
      "['a', 'h', 'k', 'o', 's']\n",
      "True\n",
      "False\n",
      "True\n",
      "True\n",
      "False\n",
      "True\n",
      "True\n"
     ]
    }
   ],
   "source": [
    "print('ashok')\n",
    "print(sorted('ashok',reverse=True))\n",
    "print(sorted('ashok',reverse=False))\n",
    "\n",
    "\n",
    "print('ashok'.startswith('a'))\n",
    "print('ashok'.startswith('b'))\n",
    "print('ashok'.startswith('as'))\n",
    "print('ashok'.startswith('h'))\n",
    "print(' ashok'.startswith(' '))\n",
    "print('ashok'.startswith(' '))\n",
    "print('ashok'.startswith(''))\n",
    "print('ashok'.startswith('o',3))\n",
    "print('ashok'.startswith('o',2))\n",
    "print('ashok'.startswith('o',2))"
   ]
  },
  {
   "cell_type": "code",
   "execution_count": null,
   "metadata": {},
   "outputs": [],
   "source": [
    "def names(a,v,nbdskf,kadjs): # parameter\n",
    "    print(a)\n",
    "    a = 'as'\n",
    "    return \n",
    "\n",
    "names('as') #arguments"
   ]
  },
  {
   "cell_type": "code",
   "execution_count": 23,
   "metadata": {},
   "outputs": [
    {
     "name": "stdout",
     "output_type": "stream",
     "text": [
      "False\n",
      "False\n",
      "False\n",
      "False\n",
      "False\n",
      "True\n",
      "False\n",
      "False\n",
      "False\n",
      "True\n",
      "True\n"
     ]
    }
   ],
   "source": [
    "print('ashok'.endswith('a'))\n",
    "print('ashok'.endswith('b'))\n",
    "print('ashok'.endswith('as'))\n",
    "print(' ashok'.endswith(' '))\n",
    "print('ashok'.endswith(' '))\n",
    "print('ashok'.endswith(''))\n",
    "print('ashok'.endswith('o',3))\n",
    "print('ashok'.endswith('o',2))\n",
    "print('ashok'.endswith('o',-1))\n",
    "print('ashok'.endswith('k'))\n",
    "print('ashok'.endswith('ok'))"
   ]
  },
  {
   "cell_type": "code",
   "execution_count": 29,
   "metadata": {},
   "outputs": [
    {
     "name": "stdout",
     "output_type": "stream",
     "text": [
      "0\n",
      "0\n"
     ]
    }
   ],
   "source": [
    "print('ashok'.index('as'))\n",
    "print('ashok'.find('as'))"
   ]
  },
  {
   "cell_type": "code",
   "execution_count": 37,
   "metadata": {},
   "outputs": [
    {
     "name": "stdout",
     "output_type": "stream",
     "text": [
      "ashok\n",
      "<class 'str'>\n",
      "10\n",
      "<class 'str'>\n",
      "<class 'int'>\n",
      "True\n",
      "False\n",
      "False\n",
      "False\n",
      "True\n",
      "True\n",
      "True\n",
      "True\n",
      "False\n"
     ]
    }
   ],
   "source": [
    "print('ashok')\n",
    "print(type('ashok'))\n",
    "print('10')\n",
    "print(type('10'))\n",
    "print(type(10))\n",
    "\n",
    "print('10'.isnumeric())\n",
    "print('sahu10'.isnumeric())\n",
    "\n",
    "print('10'.isalpha())\n",
    "print('sahu10'.isalpha())\n",
    "print('sahu'.isalpha())\n",
    "\n",
    "print('ashok10'.isalnum())\n",
    "print('10'.isalnum())\n",
    "print('ashok'.isalnum())\n",
    "print('1.0'.isalnum())"
   ]
  }
 ],
 "metadata": {
  "kernelspec": {
   "display_name": "Python 3.10.4 64-bit",
   "language": "python",
   "name": "python3"
  },
  "language_info": {
   "codemirror_mode": {
    "name": "ipython",
    "version": 3
   },
   "file_extension": ".py",
   "mimetype": "text/x-python",
   "name": "python",
   "nbconvert_exporter": "python",
   "pygments_lexer": "ipython3",
   "version": "3.10.4"
  },
  "orig_nbformat": 4,
  "vscode": {
   "interpreter": {
    "hash": "aef0ad5cd858520acf7a7a5e6810764bf6b17c229c37f21e929fa08adc6f6002"
   }
  }
 },
 "nbformat": 4,
 "nbformat_minor": 2
}
