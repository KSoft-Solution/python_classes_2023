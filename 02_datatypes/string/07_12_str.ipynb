{
 "cells": [
  {
   "cell_type": "code",
   "execution_count": null,
   "metadata": {},
   "outputs": [],
   "source": [
    "''.expandtabs()\n",
    "''.format_map()\n",
    "''.isdecimal()\n",
    "''.isdigit()\n",
    "''.isspace()\n",
    "''.isidentifier()\n",
    "''.isprintable()\n",
    "''.isascii()\n",
    "''.isalpha()\n",
    "''.isascii()\n",
    "''.join()\n",
    "''.ljust()\n",
    "''.rjust()\n",
    "''.maketrans()\n",
    "''.partition()\n",
    "''.rfind()\n",
    "''.rindex()\n",
    "''.rpartition()\n",
    "''.rsplit()\n",
    "''.translate()\n",
    "''.splitlines()\n",
    "''.swapcase()\n",
    "''.zfill()"
   ]
  },
  {
   "cell_type": "markdown",
   "metadata": {},
   "source": [
    "casefold()"
   ]
  },
  {
   "cell_type": "code",
   "execution_count": 8,
   "metadata": {},
   "outputs": [
    {
     "name": "stdout",
     "output_type": "stream",
     "text": [
      "{'using I am Bettaß - for low i printed : i am bettaß and for cas i printed : i am bettass'}\n",
      "i am bettaß\n",
      "i am bettass\n"
     ]
    }
   ],
   "source": [
    "# str1 = 'immutabLe strinT'\n",
    "# # print(str1)\n",
    "# # str1.upper()\n",
    "# # print(str1)\n",
    "# str2 = str1.casefold()\n",
    "# print(str1)\n",
    "# print(str2)\n",
    "\n",
    "str1 = 'I am Bettaß'\n",
    "low = str1.lower()\n",
    "cas = str1.casefold()\n",
    "\n",
    "print({f'using {str1} - for low i printed : {low} and for cas i printed : {cas}'})\n",
    "print(low)\n",
    "print(cas)"
   ]
  },
  {
   "cell_type": "markdown",
   "metadata": {},
   "source": [
    "center()"
   ]
  },
  {
   "cell_type": "code",
   "execution_count": 33,
   "metadata": {},
   "outputs": [
    {
     "name": "stdout",
     "output_type": "stream",
     "text": [
      "13\n",
      "i am a string\n",
      "30\n",
      "22222222i am a string222222222\n"
     ]
    }
   ],
   "source": [
    "str1 = 'i am a string'\n",
    "l = len(str1)\n",
    "print(l)\n",
    "print(str1)\n",
    "# space = str1.center(30,' ')\n",
    "# space = str1.center(30,'as')\n",
    "# space = str1.center(30,'$')\n",
    "space = str1.center(30,'2')\n",
    "# space = str1.center(30,1)\n",
    "l2 = len(space)\n",
    "print(l2)\n",
    "print(space)\n",
    "\n",
    "# newly_added_space  -> length - original_string -> length ==   ooutput/2 (left === right(if equal)) \n"
   ]
  },
  {
   "cell_type": "markdown",
   "metadata": {},
   "source": [
    "encode()"
   ]
  },
  {
   "cell_type": "code",
   "execution_count": 20,
   "metadata": {},
   "outputs": [
    {
     "name": "stdout",
     "output_type": "stream",
     "text": [
      "i am a decoded string\n",
      "b'i am a decoded string'\n"
     ]
    }
   ],
   "source": [
    "str1 = 'i am a decoded string'\n",
    "print(str1)\n",
    "en_str = str1.encode()\n",
    "print(en_str)"
   ]
  }
 ],
 "metadata": {
  "kernelspec": {
   "display_name": "Python 3.10.4 64-bit",
   "language": "python",
   "name": "python3"
  },
  "language_info": {
   "codemirror_mode": {
    "name": "ipython",
    "version": 3
   },
   "file_extension": ".py",
   "mimetype": "text/x-python",
   "name": "python",
   "nbconvert_exporter": "python",
   "pygments_lexer": "ipython3",
   "version": "3.10.4"
  },
  "orig_nbformat": 4,
  "vscode": {
   "interpreter": {
    "hash": "aef0ad5cd858520acf7a7a5e6810764bf6b17c229c37f21e929fa08adc6f6002"
   }
  }
 },
 "nbformat": 4,
 "nbformat_minor": 2
}
