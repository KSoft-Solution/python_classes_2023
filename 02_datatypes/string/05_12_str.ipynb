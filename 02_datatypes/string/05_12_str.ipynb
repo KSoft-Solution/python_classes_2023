{
 "cells": [
  {
   "cell_type": "code",
   "execution_count": 1,
   "metadata": {},
   "outputs": [
    {
     "name": "stdout",
     "output_type": "stream",
     "text": [
      "I am a string\n",
      "I am a string\n",
      "I am a string\n",
      "1\n",
      "I AM A STRING\n",
      "I AM A STRING\n",
      "I AM A STRING\n",
      "1\n",
      "i am a string\n",
      "i am a string\n",
      "i am a string\n",
      "1\n"
     ]
    }
   ],
   "source": [
    "print('i am a string'.capitalize())\n",
    "print('I am a string'.capitalize())\n",
    "print('I AM A STRING'.capitalize())\n",
    "print('1'.capitalize())\n",
    "\n",
    "print('i am a string'.upper())\n",
    "print('I am a string'.upper())\n",
    "print('I AM A STRING'.upper())\n",
    "print('1'.upper())\n",
    "\n",
    "print('i am a string'.lower())\n",
    "print('I am a string'.lower())\n",
    "print('I AM A STRING'.lower())\n",
    "print('1'.lower())"
   ]
  },
  {
   "cell_type": "code",
   "execution_count": 6,
   "metadata": {},
   "outputs": [
    {
     "name": "stdout",
     "output_type": "stream",
     "text": [
      "False\n",
      "False\n",
      "True\n",
      "False\n",
      "False\n",
      "False\n",
      "False\n",
      "True\n",
      "False\n",
      "True\n",
      "False\n",
      "False\n",
      "False\n"
     ]
    }
   ],
   "source": [
    "print('i am a string'.istitle())\n",
    "print('I am a string'.istitle())\n",
    "print('Ashok'.istitle())\n",
    "print('I AM A STRING'.istitle())\n",
    "print('mbdjsvc1'.istitle())\n",
    "\n",
    "print('i am a string'.isupper())\n",
    "print('I am a string'.isupper())\n",
    "print('I AM A STRING'.isupper())\n",
    "print('1'.isupper())\n",
    "\n",
    "print('i am a string'.islower())\n",
    "print('I am a string'.islower())\n",
    "print('I AM A STRING'.islower())\n",
    "print('1'.islower())"
   ]
  },
  {
   "cell_type": "code",
   "execution_count": 9,
   "metadata": {},
   "outputs": [
    {
     "name": "stdout",
     "output_type": "stream",
     "text": [
      "a\n",
      "s\n",
      "['a', 'h', 'k', 'o', 's']\n",
      "['1', '2', '3', 'a', 'h', 'k', 'o', 's']\n",
      "['1', '2', '3', 'a', 'h', 'k', 'o', 's']\n",
      "['s', 'o', 'k', 'h', 'a', '3', '2', '1']\n",
      "['s', 'o', 'k', 'h', 'a', '3', '2', '1']\n",
      "['s', 'o', 'k', 'h', 'a', '3', '2', '1']\n",
      "['a', 'h', 'k', 'o', 's']\n",
      "['s', 'o', 'k', 'h', 'a']\n"
     ]
    }
   ],
   "source": [
    "print(min('ashok'))\n",
    "print(max('ashok'))\n",
    "print(sorted('ashok'))\n",
    "print(sorted('ashok123'))\n",
    "print(sorted('123ashok'))\n",
    "print(sorted('ash123ok',reverse=True))\n",
    "print(sorted('ash123ok',reverse=True))\n",
    "print(sorted('ash123ok',reverse=True))\n",
    "print(sorted('ashok',reverse=False))\n",
    "print(sorted('ashok',reverse=True))"
   ]
  },
  {
   "cell_type": "code",
   "execution_count": 18,
   "metadata": {},
   "outputs": [
    {
     "name": "stdout",
     "output_type": "stream",
     "text": [
      "False\n",
      "False\n",
      "True\n",
      "True\n",
      "True\n",
      "True\n",
      "True\n",
      "False\n",
      "True\n",
      "True\n",
      "False\n",
      "False\n",
      "False\n",
      "False\n",
      "False\n"
     ]
    }
   ],
   "source": [
    "print('i am a string'.isalnum())\n",
    "print('i am a string 123'.isalnum())\n",
    "print('123'.isalnum())\n",
    "print('a123'.isalnum())\n",
    "print('123a'.isalnum())\n",
    "print('ASHOK'.isalnum())\n",
    "print('Ashok'.isalnum())\n",
    "print('Ashok@'.isalnum())\n",
    "print('ashok'.isalnum())\n",
    "print('1a2d'.isalnum())\n",
    "print('1a1.2d'.isalnum())\n",
    "print('ASHOK 123'.isalnum())\n",
    "print('Ashok 123'.isalnum())\n",
    "print('ashok 123'.isalnum())\n",
    "print('123 ashok'.isalnum())"
   ]
  },
  {
   "cell_type": "code",
   "execution_count": 19,
   "metadata": {},
   "outputs": [
    {
     "name": "stdout",
     "output_type": "stream",
     "text": [
      "False\n",
      "False\n",
      "True\n",
      "False\n",
      "False\n",
      "False\n",
      "False\n",
      "False\n",
      "False\n",
      "False\n",
      "False\n",
      "False\n",
      "False\n",
      "False\n",
      "False\n"
     ]
    }
   ],
   "source": [
    "print('i am a string'.isnumeric())\n",
    "print('i am a string 123'.isnumeric())\n",
    "print('123'.isnumeric())\n",
    "print('a123'.isnumeric())\n",
    "print('123a'.isnumeric())\n",
    "print('ASHOK'.isnumeric())\n",
    "print('Ashok'.isnumeric())\n",
    "print('Ashok@'.isnumeric())\n",
    "print('ashok'.isnumeric())\n",
    "print('1a2d'.isnumeric())\n",
    "print('1a1.2d'.isnumeric())\n",
    "print('ASHOK 123'.isnumeric())\n",
    "print('Ashok 123'.isnumeric())\n",
    "print('ashok 123'.isnumeric())\n",
    "print('123 ashok'.isnumeric())"
   ]
  },
  {
   "cell_type": "code",
   "execution_count": 20,
   "metadata": {},
   "outputs": [
    {
     "name": "stdout",
     "output_type": "stream",
     "text": [
      "False\n",
      "False\n",
      "False\n",
      "False\n",
      "False\n",
      "True\n",
      "True\n",
      "False\n",
      "True\n",
      "False\n",
      "False\n",
      "False\n",
      "False\n",
      "False\n",
      "False\n"
     ]
    }
   ],
   "source": [
    "print('i am a string'.isalpha())\n",
    "print('i am a string 123'.isalpha())\n",
    "print('123'.isalpha())\n",
    "print('a123'.isalpha())\n",
    "print('123a'.isalpha())\n",
    "print('ASHOK'.isalpha())\n",
    "print('Ashok'.isalpha())\n",
    "print('Ashok@'.isalpha())\n",
    "print('ashok'.isalpha())\n",
    "print('1a2d'.isalpha())\n",
    "print('1a1.2d'.isalpha())\n",
    "print('ASHOK 123'.isalpha())\n",
    "print('Ashok 123'.isalpha())\n",
    "print('ashok 123'.isalpha())\n",
    "print('123 ashok'.isalpha())"
   ]
  }
 ],
 "metadata": {
  "kernelspec": {
   "display_name": "Python 3.10.4 64-bit",
   "language": "python",
   "name": "python3"
  },
  "language_info": {
   "codemirror_mode": {
    "name": "ipython",
    "version": 3
   },
   "file_extension": ".py",
   "mimetype": "text/x-python",
   "name": "python",
   "nbconvert_exporter": "python",
   "pygments_lexer": "ipython3",
   "version": "3.10.4"
  },
  "orig_nbformat": 4,
  "vscode": {
   "interpreter": {
    "hash": "aef0ad5cd858520acf7a7a5e6810764bf6b17c229c37f21e929fa08adc6f6002"
   }
  }
 },
 "nbformat": 4,
 "nbformat_minor": 2
}
