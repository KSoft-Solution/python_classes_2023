{
 "cells": [
  {
   "cell_type": "code",
   "execution_count": null,
   "metadata": {},
   "outputs": [],
   "source": [
    "''.capitalize()\n",
    "''.upper()\n",
    "''.lower()\n",
    "''.title()\n",
    "''.isalnum()\n",
    "''.count()\n",
    "''.find()\n",
    "''.index()\n",
    "'mbnf'.split()\n",
    "''.rstrip()\n",
    "''.strip()\n",
    "''.replace()\n",
    "''.format()\n",
    "\n",
    "\n",
    "''.isalpha()\n",
    "''.isnumeric()\n",
    "''.lstrip()\n",
    "''.endswith()\n",
    "''.startswith()"
   ]
  },
  {
   "cell_type": "code",
   "execution_count": 2,
   "metadata": {},
   "outputs": [
    {
     "name": "stdout",
     "output_type": "stream",
     "text": [
      "i am astring\n",
      "<class 'str'>\n"
     ]
    }
   ],
   "source": [
    "print('i am astring')\n",
    "print(type('i am a string')) #<class 'str'>"
   ]
  },
  {
   "cell_type": "code",
   "execution_count": 5,
   "metadata": {},
   "outputs": [
    {
     "name": "stdout",
     "output_type": "stream",
     "text": [
      "software\n",
      "hardware\n",
      "hard\n"
     ]
    }
   ],
   "source": [
    "# def startswith():\n",
    "\n",
    "\n",
    "class Str():\n",
    "    def startswith():\n",
    "\n",
    "# job = 'software'\n",
    "# print(job)\n",
    "\n",
    "def job():\n",
    "    \n",
    "\n",
    "\n"
   ]
  },
  {
   "cell_type": "code",
   "execution_count": 7,
   "metadata": {},
   "outputs": [
    {
     "name": "stdout",
     "output_type": "stream",
     "text": [
      "I AM A STRING\n",
      "I AM A STRING\n",
      "I AM A STRING\n",
      "I AM A STRING\n"
     ]
    }
   ],
   "source": [
    "print('I am a string'.upper())\n",
    "print('i am a string'.upper())\n",
    "print('I am a String'.upper())\n",
    "print('I AM A STRING'.upper())"
   ]
  },
  {
   "cell_type": "code",
   "execution_count": 8,
   "metadata": {},
   "outputs": [
    {
     "name": "stdout",
     "output_type": "stream",
     "text": [
      "i am a string\n",
      "i am a string\n",
      "i am a string\n",
      "i am a string\n"
     ]
    }
   ],
   "source": [
    "print('I am a string'.lower())\n",
    "print('i am a string'.lower())\n",
    "print('I am a String'.lower())\n",
    "print('I AM A STRING'.lower())"
   ]
  },
  {
   "cell_type": "code",
   "execution_count": 9,
   "metadata": {},
   "outputs": [
    {
     "name": "stdout",
     "output_type": "stream",
     "text": [
      "False\n",
      "False\n",
      "False\n",
      "True\n"
     ]
    }
   ],
   "source": [
    "print('I am a string'.isupper())\n",
    "print('i am a string'.isupper())\n",
    "print('I am a String'.isupper())\n",
    "print('I AM A STRING'.isupper())"
   ]
  },
  {
   "cell_type": "code",
   "execution_count": 10,
   "metadata": {},
   "outputs": [
    {
     "name": "stdout",
     "output_type": "stream",
     "text": [
      "False\n",
      "True\n",
      "False\n",
      "False\n"
     ]
    }
   ],
   "source": [
    "print('I am a string'.islower())\n",
    "print('i am a string'.islower())\n",
    "print('I am a String'.islower())\n",
    "print('I AM A STRING'.islower())"
   ]
  },
  {
   "cell_type": "code",
   "execution_count": 11,
   "metadata": {},
   "outputs": [
    {
     "name": "stdout",
     "output_type": "stream",
     "text": [
      "I Am A String\n",
      "I Am A String\n",
      "I Am A String\n",
      "I Am A String\n"
     ]
    }
   ],
   "source": [
    "print('I am a string'.title())\n",
    "print('i am a string'.title())\n",
    "print('I am a String'.title())\n",
    "print('I AM A STRING'.title())"
   ]
  },
  {
   "cell_type": "code",
   "execution_count": 12,
   "metadata": {},
   "outputs": [
    {
     "name": "stdout",
     "output_type": "stream",
     "text": [
      "I am a string\n",
      "I am a string\n",
      "I am a string\n",
      "I am a string\n"
     ]
    }
   ],
   "source": [
    "print('I am a string'.capitalize())\n",
    "print('i am a string'.capitalize())\n",
    "print('I am a String'.capitalize())\n",
    "print('I AM A STRING'.capitalize())"
   ]
  },
  {
   "cell_type": "code",
   "execution_count": 22,
   "metadata": {},
   "outputs": [
    {
     "name": "stdout",
     "output_type": "stream",
     "text": [
      "False\n",
      "False\n",
      "False\n",
      "False\n",
      "True\n",
      "True\n",
      "True\n",
      "False\n",
      "False\n",
      "True\n",
      "False\n",
      "False\n",
      "True\n"
     ]
    }
   ],
   "source": [
    "print('I am a string'.istitle())\n",
    "print('i am a string'.istitle())\n",
    "print('I am a String'.istitle())\n",
    "print('I AM A STRING'.istitle())\n",
    "\n",
    "print('I Am Ashok Sahu'.istitle())\n",
    "print('I'.istitle())\n",
    "print('Iam'.istitle())\n",
    "print('am'.istitle())\n",
    "print('1'.istitle())\n",
    "print('A1'.istitle())\n",
    "print('a1'.istitle())\n",
    "print('1a1'.istitle())\n",
    "print('A*'.istitle())"
   ]
  },
  {
   "cell_type": "code",
   "execution_count": 31,
   "metadata": {},
   "outputs": [
    {
     "name": "stdout",
     "output_type": "stream",
     "text": [
      "47\n",
      "47\n",
      "3\n",
      "3\n",
      "2\n",
      "2\n"
     ]
    }
   ],
   "source": [
    "print(len('vxbcnaxxcmsdklv cxdmvkcbxzmd,mvfjdvsbns;dsfhjkb'))\n",
    "print(len('10010010030040020020112010202203i4034o308483573'))\n",
    "\n",
    "print(len([1,2,3]))#list\n",
    "print(len((1,2,3)))#tuple\n",
    "print(len({\n",
    "    \"name\":'1',\n",
    "    \"class\":'12'\n",
    "})) #dict\n",
    "print(len(set({\n",
    "    'name':'1',\n",
    "    'class':'1'\n",
    "})))#set\n",
    "# print(len(1,2,3,4,4,5,6))\n"
   ]
  },
  {
   "cell_type": "code",
   "execution_count": 35,
   "metadata": {},
   "outputs": [
    {
     "name": "stdout",
     "output_type": "stream",
     "text": [
      "['2', 'a', 'd', 'e', 'e', 'e', 'f', 'f', 'f', 'h', 'h', 'h', 'i', 'j', 'j', 'j', 'k', 'k', 'k', 'l', 'n', 'p', 'p', 'p', 's', 's', 'u', 'u', 'v', 'w', 'w', 'y', 'z']\n",
      "['2', '@', 'a', 'd', 'e', 'e', 'e', 'f', 'f', 'f', 'h', 'h', 'h', 'i', 'j', 'j', 'j', 'k', 'k', 'k', 'l', 'n', 'p', 'p', 'p', 's', 's', 'u', 'u', 'v', 'w', 'w', 'y', 'z']\n",
      "['z', 'y', 'w', 'w', 'v', 'u', 'u', 's', 's', 'p', 'p', 'p', 'n', 'l', 'k', 'k', 'k', 'j', 'j', 'j', 'i', 'h', 'h', 'h', 'f', 'f', 'f', 'e', 'e', 'e', 'd', 'a', '@', '2']\n",
      "['2', '@', 'a', 'd', 'e', 'e', 'e', 'f', 'f', 'f', 'h', 'h', 'h', 'i', 'j', 'j', 'j', 'k', 'k', 'k', 'l', 'n', 'p', 'p', 'p', 's', 's', 'u', 'u', 'v', 'w', 'w', 'y', 'z']\n"
     ]
    }
   ],
   "source": [
    "print(sorted('zasjwesnkhjkfewhfjpiuheyp2ufpvlkd'))\n",
    "print(sorted('zasjwesnkhjkfewhfjpiuheyp2ufpvlkd@'))\n",
    "print(sorted('zasjwesnkhjkfewhfjpiuheyp2ufpvlkd@',reverse=True))\n",
    "print(sorted('zasjwesnkhjkfewhfjpiuheyp2ufpvlkd@',reverse=False))"
   ]
  },
  {
   "cell_type": "code",
   "execution_count": 41,
   "metadata": {},
   "outputs": [
    {
     "name": "stdout",
     "output_type": "stream",
     "text": [
      "9\n",
      "9\n",
      "7\n",
      "2\n"
     ]
    }
   ],
   "source": [
    "print('tomoaxKDGUIGDNSCN BGIQJDSJDVHJDWLDWKD[WIQUDWUJMCBSCDo'.count('D'))\n",
    "print('tomoaxKDGUIGDNSCN BGIQJDSJDVHJDWLDWKD[WIQUDWUJMCBSCDo'.count('D',7))\n",
    "print('tomoaxKDGUIGDNSCN BGIQJDSJDVHJDWLDWKD[WIQUDWUJMCBSCDo'.count('D',15))\n",
    "print('tomoaxKDGUIGDNSCN BGIQJDSJDVHJDWLDWKD[WIQUDWUJMCBSCDo'.count('D',-15))"
   ]
  },
  {
   "cell_type": "code",
   "execution_count": 45,
   "metadata": {},
   "outputs": [
    {
     "name": "stdout",
     "output_type": "stream",
     "text": [
      "a\n",
      "s\n",
      "4\n",
      "1\n",
      "1\n",
      "@\n"
     ]
    }
   ],
   "source": [
    "print(min('ashok')) \n",
    "print(max('ashok')) \n",
    "print(max('1234')) \n",
    "print(min('1234')) \n",
    "print(min('1234@')) \n",
    "print(max('1234@')) \n"
   ]
  }
 ],
 "metadata": {
  "kernelspec": {
   "display_name": "Python 3.10.4 64-bit",
   "language": "python",
   "name": "python3"
  },
  "language_info": {
   "codemirror_mode": {
    "name": "ipython",
    "version": 3
   },
   "file_extension": ".py",
   "mimetype": "text/x-python",
   "name": "python",
   "nbconvert_exporter": "python",
   "pygments_lexer": "ipython3",
   "version": "3.10.4"
  },
  "orig_nbformat": 4,
  "vscode": {
   "interpreter": {
    "hash": "aef0ad5cd858520acf7a7a5e6810764bf6b17c229c37f21e929fa08adc6f6002"
   }
  }
 },
 "nbformat": 4,
 "nbformat_minor": 2
}
