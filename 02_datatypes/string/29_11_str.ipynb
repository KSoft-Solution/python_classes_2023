{
 "cells": [
  {
   "cell_type": "code",
   "execution_count": null,
   "metadata": {},
   "outputs": [],
   "source": [
    "str1,str2,str3,str4 = '',\"\",'''''',\"\"\"\"\"\";\n",
    "str1,str2,str3,str4 = 'a',\"b\",'''c''',\"\"\"d\"\"\";\n",
    "print(str1)\n",
    "print(id(str1))\n",
    "print(type(str1))\n",
    "\n",
    "print(str2)\n",
    "print(id(str2))\n",
    "print(type(str2))\n",
    "\n",
    "print(str3)\n",
    "print(id(str3))\n",
    "print(type(str3))\n",
    "\n",
    "print(str4)\n",
    "print(id(str4))\n",
    "print(type(str4))"
   ]
  },
  {
   "cell_type": "code",
   "execution_count": 4,
   "metadata": {},
   "outputs": [
    {
     "ename": "SyntaxError",
     "evalue": "unterminated string literal (detected at line 2) (1863495743.py, line 2)",
     "output_type": "error",
     "traceback": [
      "\u001b[1;36m  Input \u001b[1;32mIn [4]\u001b[1;36m\u001b[0m\n\u001b[1;33m    single_quote_in_str = 'i am a single quote' variable' #invalid\u001b[0m\n\u001b[1;37m                                                        ^\u001b[0m\n\u001b[1;31mSyntaxError\u001b[0m\u001b[1;31m:\u001b[0m unterminated string literal (detected at line 2)\n"
     ]
    }
   ],
   "source": [
    "single_quote_str = 'i am a single quote variable' #valid\n",
    "single_quote_in_str = 'i am a single quote' variable' #invalid\n",
    "single_quote_in_r_str = 'i am a single quote\\' variable' #valid\n",
    "single_quote_in_dual_str = 'i am a single quote\" variable' #valid\n",
    "\n",
    "dual_quote_str = \"i am a single quote variable\" #valid\n",
    "dual_quote_in_str = \"i am a single quote\" variable\" #invalid\n",
    "dual_quote_in_r_str = \"i am a single quote\\\" variable\" #valid\n",
    "dual_quote_in_single_str = \"i am a single quote' variable\" #valid\n",
    "\n",
    "print({single_quote_str,single_quote_in_str,single_quote_in_r_str,single_quote_in_dual_str})\n",
    "print({single_quote_str,single_quote_in_str,single_quote_in_r_str,single_quote_in_dual_str})"
   ]
  },
  {
   "cell_type": "code",
   "execution_count": null,
   "metadata": {},
   "outputs": [],
   "source": [
    "len_str = 'ashok '\n",
    "print(len_str)\n",
    "print(len(len_str))"
   ]
  },
  {
   "cell_type": "code",
   "execution_count": null,
   "metadata": {},
   "outputs": [],
   "source": [
    "max_str = 'ashok'\n",
    "print(max_str)\n",
    "print(max(max_str))\n",
    "print(min(max_str))"
   ]
  },
  {
   "cell_type": "code",
   "execution_count": 42,
   "metadata": {},
   "outputs": [
    {
     "ename": "ValueError",
     "evalue": "invalid literal for int() with base 10: ''",
     "output_type": "error",
     "traceback": [
      "\u001b[1;31m---------------------------------------------------------------------------\u001b[0m",
      "\u001b[1;31mValueError\u001b[0m                                Traceback (most recent call last)",
      "\u001b[1;32mc:\\Users\\ASHOK SAHU\\OneDrive\\Desktop\\python\\29_11_str.ipynb Cell 5\u001b[0m in \u001b[0;36m<cell line: 11>\u001b[1;34m()\u001b[0m\n\u001b[0;32m      <a href='vscode-notebook-cell:/c%3A/Users/ASHOK%20SAHU/OneDrive/Desktop/python/29_11_str.ipynb#W4sZmlsZQ%3D%3D?line=0'>1</a>\u001b[0m \u001b[39m# your_name = 'ashok sahu'\u001b[39;00m\n\u001b[0;32m      <a href='vscode-notebook-cell:/c%3A/Users/ASHOK%20SAHU/OneDrive/Desktop/python/29_11_str.ipynb#W4sZmlsZQ%3D%3D?line=1'>2</a>\u001b[0m \n\u001b[0;32m      <a href='vscode-notebook-cell:/c%3A/Users/ASHOK%20SAHU/OneDrive/Desktop/python/29_11_str.ipynb#W4sZmlsZQ%3D%3D?line=2'>3</a>\u001b[0m \u001b[39m# str of number ==== '12' === int('12') === int\u001b[39;00m\n\u001b[1;32m   (...)\u001b[0m\n\u001b[0;32m      <a href='vscode-notebook-cell:/c%3A/Users/ASHOK%20SAHU/OneDrive/Desktop/python/29_11_str.ipynb#W4sZmlsZQ%3D%3D?line=8'>9</a>\u001b[0m \u001b[39m# print(your_name)\u001b[39;00m\n\u001b[0;32m     <a href='vscode-notebook-cell:/c%3A/Users/ASHOK%20SAHU/OneDrive/Desktop/python/29_11_str.ipynb#W4sZmlsZQ%3D%3D?line=9'>10</a>\u001b[0m \u001b[39m# print(type(your_name))\u001b[39;00m\n\u001b[1;32m---> <a href='vscode-notebook-cell:/c%3A/Users/ASHOK%20SAHU/OneDrive/Desktop/python/29_11_str.ipynb#W4sZmlsZQ%3D%3D?line=10'>11</a>\u001b[0m your_name \u001b[39m=\u001b[39m \u001b[39mbool\u001b[39m(\u001b[39mint\u001b[39;49m(\u001b[39minput\u001b[39;49m(\u001b[39m'\u001b[39;49m\u001b[39menter your name\u001b[39;49m\u001b[39m'\u001b[39;49m)))\n\u001b[0;32m     <a href='vscode-notebook-cell:/c%3A/Users/ASHOK%20SAHU/OneDrive/Desktop/python/29_11_str.ipynb#W4sZmlsZQ%3D%3D?line=11'>12</a>\u001b[0m \u001b[39mprint\u001b[39m(your_name)\n\u001b[0;32m     <a href='vscode-notebook-cell:/c%3A/Users/ASHOK%20SAHU/OneDrive/Desktop/python/29_11_str.ipynb#W4sZmlsZQ%3D%3D?line=12'>13</a>\u001b[0m \u001b[39mprint\u001b[39m(\u001b[39mtype\u001b[39m(your_name))\n",
      "\u001b[1;31mValueError\u001b[0m: invalid literal for int() with base 10: ''"
     ]
    }
   ],
   "source": [
    "# your_name = 'ashok sahu'\n",
    "\n",
    "# str of number ==== '12' === int('12') === int\n",
    "\n",
    "# your_name = int(input('enter your name'))\n",
    "# print(your_name)\n",
    "# print(type(your_name))\n",
    "# your_name = str(input('enter your name'))\n",
    "# print(your_name)\n",
    "# print(type(your_name))\n",
    "your_name = bool(int(input('enter your name')))\n",
    "print(your_name)\n",
    "print(type(your_name))"
   ]
  },
  {
   "cell_type": "code",
   "execution_count": 46,
   "metadata": {},
   "outputs": [
    {
     "name": "stdout",
     "output_type": "stream",
     "text": [
      "name - ashok sahu\n",
      "job - software services\n",
      "village - girisola\n",
      "company - TCS\n",
      "\n"
     ]
    }
   ],
   "source": [
    "# profile = 'name - ashok sahu\n",
    "# job - software services\n",
    "# village - girisola\n",
    "# company - TCS\n",
    "# '\n",
    "# profile = \"name - ashok sahu\n",
    "# job - software services\n",
    "# village - girisola\n",
    "# company - TCS\n",
    "# \"\n",
    "# profile = \"\"\"name - ashok sahu\n",
    "# job - software services\n",
    "# village - girisola\n",
    "# company - TCS\n",
    "# \"\"\"\n",
    "profile = '''name - ashok sahu\n",
    "job - software services\n",
    "village - girisola\n",
    "company - TCS\n",
    "'''\n",
    "\n",
    "print(profile)"
   ]
  },
  {
   "cell_type": "markdown",
   "metadata": {},
   "source": [
    "string concatination\n"
   ]
  },
  {
   "cell_type": "code",
   "execution_count": 54,
   "metadata": {},
   "outputs": [
    {
     "name": "stdout",
     "output_type": "stream",
     "text": [
      "alekha\n",
      "nayak\n",
      "alekhanayak\n"
     ]
    }
   ],
   "source": [
    "first_name = 'alekha'\n",
    "last_name = 'nayak'\n",
    "\n",
    "# full_name = first_name +\" \"+ last_name\n",
    "# full_name = 'alekha' ' nayak'\n",
    "full_name = f'{first_name} {last_name}'\n",
    "\n",
    "\n",
    "print(first_name)\n",
    "print(last_name)\n",
    "print(full_name)"
   ]
  },
  {
   "cell_type": "markdown",
   "metadata": {},
   "source": [
    "getting values from a string"
   ]
  },
  {
   "cell_type": "code",
   "execution_count": 57,
   "metadata": {},
   "outputs": [
    {
     "name": "stdout",
     "output_type": "stream",
     "text": [
      "25\n",
      "t\n",
      "a\n",
      "t\n",
      "a\n",
      " \n",
      "c\n",
      "o\n",
      "n\n",
      "s\n",
      "u\n",
      "l\n",
      "t\n",
      "a\n",
      "n\n",
      "c\n",
      "y\n",
      " \n",
      "s\n",
      "e\n",
      "r\n",
      "v\n",
      "i\n",
      "c\n",
      "e\n",
      "s\n"
     ]
    },
    {
     "ename": "IndexError",
     "evalue": "string index out of range",
     "output_type": "error",
     "traceback": [
      "\u001b[1;31m---------------------------------------------------------------------------\u001b[0m",
      "\u001b[1;31mIndexError\u001b[0m                                Traceback (most recent call last)",
      "\u001b[1;32mc:\\Users\\ASHOK SAHU\\OneDrive\\Desktop\\python\\29_11_str.ipynb Cell 10\u001b[0m in \u001b[0;36m<cell line: 28>\u001b[1;34m()\u001b[0m\n\u001b[0;32m     <a href='vscode-notebook-cell:/c%3A/Users/ASHOK%20SAHU/OneDrive/Desktop/python/29_11_str.ipynb#X11sZmlsZQ%3D%3D?line=25'>26</a>\u001b[0m \u001b[39mprint\u001b[39m(chars[\u001b[39m23\u001b[39m])\n\u001b[0;32m     <a href='vscode-notebook-cell:/c%3A/Users/ASHOK%20SAHU/OneDrive/Desktop/python/29_11_str.ipynb#X11sZmlsZQ%3D%3D?line=26'>27</a>\u001b[0m \u001b[39mprint\u001b[39m(chars[\u001b[39m24\u001b[39m])\n\u001b[1;32m---> <a href='vscode-notebook-cell:/c%3A/Users/ASHOK%20SAHU/OneDrive/Desktop/python/29_11_str.ipynb#X11sZmlsZQ%3D%3D?line=27'>28</a>\u001b[0m \u001b[39mprint\u001b[39m(chars[\u001b[39m25\u001b[39;49m])\n",
      "\u001b[1;31mIndexError\u001b[0m: string index out of range"
     ]
    }
   ],
   "source": [
    "chars = 'tata consultancy services'\n",
    "print(len(chars))\n",
    "print(chars[0])\n",
    "print(chars[1])\n",
    "print(chars[2])\n",
    "print(chars[3])\n",
    "print(chars[4])\n",
    "print(chars[5])\n",
    "print(chars[6])\n",
    "print(chars[7])\n",
    "print(chars[8])\n",
    "print(chars[9])\n",
    "print(chars[10])\n",
    "print(chars[11])\n",
    "print(chars[12])\n",
    "print(chars[13])\n",
    "print(chars[14])\n",
    "print(chars[15])\n",
    "print(chars[16])\n",
    "print(chars[17])\n",
    "print(chars[18])\n",
    "print(chars[19])\n",
    "print(chars[20])\n",
    "print(chars[21])\n",
    "print(chars[22])\n",
    "print(chars[23])\n",
    "print(chars[24])\n",
    "print(chars[25]) #out of range error\n"
   ]
  },
  {
   "cell_type": "code",
   "execution_count": 63,
   "metadata": {},
   "outputs": [
    {
     "name": "stdout",
     "output_type": "stream",
     "text": [
      "tata consultancy services\n",
      "t\n",
      "t\n"
     ]
    }
   ],
   "source": [
    "company = 'tata consultancy services'\n",
    "\n",
    "\n",
    "print(company)\n",
    "print(company[0])\n",
    "print(company[-25])\n",
    "\n",
    "# company[0] = '0'\n",
    "# print(company[0])\n",
    "\n"
   ]
  },
  {
   "cell_type": "code",
   "execution_count": 3,
   "metadata": {},
   "outputs": [
    {
     "name": "stdout",
     "output_type": "stream",
     "text": [
      "a\n",
      " \n",
      "s\n"
     ]
    }
   ],
   "source": [
    "name = 'akash sahu'\n",
    "print(name[0])\n",
    "print(name[5])\n",
    "print(name[6])"
   ]
  },
  {
   "cell_type": "code",
   "execution_count": 7,
   "metadata": {},
   "outputs": [
    {
     "name": "stdout",
     "output_type": "stream",
     "text": [
      "i am a single quote\" variable\n"
     ]
    }
   ],
   "source": [
    "dual_quote_in_r_str = \"i am a single quote\\\" variable\"\n",
    "print(dual_quote_in_r_str)"
   ]
  }
 ],
 "metadata": {
  "kernelspec": {
   "display_name": "Python 3.10.4 64-bit",
   "language": "python",
   "name": "python3"
  },
  "language_info": {
   "codemirror_mode": {
    "name": "ipython",
    "version": 3
   },
   "file_extension": ".py",
   "mimetype": "text/x-python",
   "name": "python",
   "nbconvert_exporter": "python",
   "pygments_lexer": "ipython3",
   "version": "3.10.4"
  },
  "orig_nbformat": 4,
  "vscode": {
   "interpreter": {
    "hash": "aef0ad5cd858520acf7a7a5e6810764bf6b17c229c37f21e929fa08adc6f6002"
   }
  }
 },
 "nbformat": 4,
 "nbformat_minor": 2
}
