{
 "cells": [
  {
   "cell_type": "markdown",
   "metadata": {},
   "source": [
    "string methods\n"
   ]
  },
  {
   "cell_type": "code",
   "execution_count": null,
   "metadata": {},
   "outputs": [],
   "source": [
    "# as we discussed yesterday\n",
    "\n",
    "# in operator\n",
    "# not in operator\n",
    "# find()\n",
    "# replace()\n",
    "# format()\n",
    "# capitalize()\n",
    "# upper()\n",
    "# lower()"
   ]
  },
  {
   "cell_type": "code",
   "execution_count": 7,
   "metadata": {},
   "outputs": [
    {
     "name": "stdout",
     "output_type": "stream",
     "text": [
      "False\n",
      "True\n",
      "False\n",
      "False\n",
      "False\n",
      "True\n",
      "True\n",
      "False\n",
      "False\n"
     ]
    }
   ],
   "source": [
    "print('Ashok shau'.isupper())\n",
    "print('ASHOK SHAU'.isupper())\n",
    "print('ashok sahu'.isupper())\n",
    "\n",
    "print('Ashok shau'.islower())\n",
    "print('ASHOK SHAU'.islower())\n",
    "print('ashok sahu'.islower())\n",
    "\n",
    "print('Ashok'.istitle())\n",
    "print('ASHOK'.istitle())\n",
    "print('ashok'.istitle())"
   ]
  },
  {
   "cell_type": "code",
   "execution_count": 15,
   "metadata": {},
   "outputs": [
    {
     "name": "stdout",
     "output_type": "stream",
     "text": [
      "ashok sahu\n",
      "17\n",
      "ashok sahu\n",
      "16\n",
      "ashok sahu kanha    \n",
      "20\n",
      "   ashok sahu kanha\n",
      "19\n"
     ]
    }
   ],
   "source": [
    "print('ashok sahu'.strip())\n",
    "print(len('   ashok sahu    '))\n",
    "print('   ashok sahu    '.strip())\n",
    "print(len('   ashok sahu kanha    '.strip()))\n",
    "print('   ashok sahu kanha    '.lstrip())\n",
    "print(len('   ashok sahu kanha    '.lstrip()))\n",
    "print('   ashok sahu kanha    '.rstrip())\n",
    "print(len('   ashok sahu kanha    '.rstrip()))"
   ]
  },
  {
   "cell_type": "code",
   "execution_count": 53,
   "metadata": {},
   "outputs": [
    {
     "name": "stdout",
     "output_type": "stream",
     "text": [
      "['ashok', 'sahu']\n",
      "['ashok', 'sahu']\n",
      "['ashok', 'sahu']\n",
      "['ashok', 'kanha', 'alekha', 'sai', 'ahuti', 'ankita rajesh gandu']\n"
     ]
    }
   ],
   "source": [
    "# print('ashok sahu'.split('$'))\n",
    "# print(type('ashok sahu'.split())) #str\n",
    "print('ashok sahu'.split()) #str\n",
    "print('ashok sahu'.split(' ')) #str\n",
    "print('ashok sahu'.split(' ',maxsplit=3)) #str\n",
    "print('ashok kanha alekha sai ahuti ankita rajesh gandu'.split(' ',maxsplit=5)) #str\n",
    "# print(type('ashok sahu'.split('$'))) #list"
   ]
  },
  {
   "cell_type": "code",
   "execution_count": 42,
   "metadata": {},
   "outputs": [
    {
     "name": "stdout",
     "output_type": "stream",
     "text": [
      "5\n",
      "1\n",
      "34\n"
     ]
    }
   ],
   "source": [
    "# print('tomato'.count('o'))\n",
    "# print('tomato'.count('to'))\n",
    "# print('tomato nhsdandjd maotnds mato'.count('mato'))\n",
    "# print('tomato'.count('t'))\n",
    "# print('tomato'.count('a'))\n",
    "# print('tomato'.count('m'))\n",
    "# print('tomato'.count('s')) # if !found === 0 else no. of chars.\n",
    "\n",
    "\n",
    "print('tomato tomato idly boitalu biskuto'.count('to'))\n",
    "print('tomato tomato idly boitalu biskuto'.count('to',20))\n",
    "print(len('tomato tomato idly boitalu biskuto'))\n"
   ]
  }
 ],
 "metadata": {
  "kernelspec": {
   "display_name": "Python 3.10.4 64-bit",
   "language": "python",
   "name": "python3"
  },
  "language_info": {
   "codemirror_mode": {
    "name": "ipython",
    "version": 3
   },
   "file_extension": ".py",
   "mimetype": "text/x-python",
   "name": "python",
   "nbconvert_exporter": "python",
   "pygments_lexer": "ipython3",
   "version": "3.10.4"
  },
  "orig_nbformat": 4,
  "vscode": {
   "interpreter": {
    "hash": "aef0ad5cd858520acf7a7a5e6810764bf6b17c229c37f21e929fa08adc6f6002"
   }
  }
 },
 "nbformat": 4,
 "nbformat_minor": 2
}
