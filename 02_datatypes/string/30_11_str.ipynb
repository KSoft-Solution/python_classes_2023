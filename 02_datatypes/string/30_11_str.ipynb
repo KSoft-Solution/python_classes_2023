{
 "cells": [
  {
   "cell_type": "markdown",
   "metadata": {},
   "source": [
    "string methods"
   ]
  },
  {
   "cell_type": "code",
   "execution_count": 2,
   "metadata": {},
   "outputs": [
    {
     "name": "stdout",
     "output_type": "stream",
     "text": [
      "{'firstname ': 'ashok', ' lastname ': 'sahu'}\n",
      "{'fullname: ': 'ashoksahu'}\n"
     ]
    }
   ],
   "source": [
    "first_name = 'ashok'\n",
    "last_name = 'sahu'\n",
    "\n",
    "print({'firstname ':first_name,' lastname ':last_name})\n",
    "\n",
    "full_name = first_name + last_name  # + addition, concatination operator\n",
    "print({'fullname: ':full_name})"
   ]
  },
  {
   "cell_type": "code",
   "execution_count": 6,
   "metadata": {},
   "outputs": [
    {
     "name": "stdout",
     "output_type": "stream",
     "text": [
      "30\n"
     ]
    }
   ],
   "source": [
    "num = 10\n",
    "str = 'string'\n",
    "num2 = 20\n",
    "\n",
    "print(num+num2)"
   ]
  },
  {
   "cell_type": "code",
   "execution_count": 10,
   "metadata": {},
   "outputs": [
    {
     "name": "stdout",
     "output_type": "stream",
     "text": [
      "ashok\n",
      "True\n",
      "False\n",
      "False\n",
      "True\n"
     ]
    }
   ],
   "source": [
    "# check a string character present or not\n",
    "print('ashok')\n",
    "print('a' in 'ashok') # True\n",
    "print('a' not in 'ashok') # False\n",
    "print('m' in 'ashokraj') # False\n",
    "print('m' not in 'ashokraj') # True"
   ]
  },
  {
   "cell_type": "code",
   "execution_count": 11,
   "metadata": {},
   "outputs": [
    {
     "name": "stdout",
     "output_type": "stream",
     "text": [
      " ashok sahu \n"
     ]
    }
   ],
   "source": [
    "name = 'ashok sahu'\n",
    "print(f' {name} ')"
   ]
  },
  {
   "cell_type": "code",
   "execution_count": 18,
   "metadata": {},
   "outputs": [
    {
     "name": "stdout",
     "output_type": "stream",
     "text": [
      "i am ashok and i am 27 years old ,working as a software services \n"
     ]
    }
   ],
   "source": [
    "# KSoft_developers = \"our python developers are {0},{1}, {2}, {3}, {4}, {5}, {12} \".format('ashok','rajesh','gandu','trimala','sai','ankita','akash','ahuti','alekha','devraj','subhasri','ramnath','vivek')\n",
    "# print(KSoft_developers)\n",
    "profile = \"i am {name} and i am {age} years old ,working as a {job} \".format(name='ashok',job='software services',age=27)\n",
    "print(profile)"
   ]
  },
  {
   "cell_type": "code",
   "execution_count": 24,
   "metadata": {},
   "outputs": [
    {
     "name": "stdout",
     "output_type": "stream",
     "text": [
      "Ashok\n",
      "Ashok\n",
      "Ashok\n",
      "ashok\n",
      "ashok\n",
      "ashok\n",
      "ASHOK\n",
      "ASHOK\n",
      "ASHOK\n"
     ]
    }
   ],
   "source": [
    "print('ashok'.capitalize())\n",
    "print('Ashok'.capitalize())\n",
    "print('ASHOK'.capitalize())\n",
    "print('ashok'.lower())\n",
    "print('ashoK'.lower())\n",
    "print('ASHOK'.lower())\n",
    "print('ashok'.upper())\n",
    "print('ashoK'.upper())\n",
    "print('ASHOK'.upper())\n",
    "\n",
    "# ASHOK # uppercase\n",
    "# ashok # lowercase\n",
    "# Ashok # capitalize\n",
    "# ashokSahu # camelcase\n",
    "\n"
   ]
  },
  {
   "cell_type": "code",
   "execution_count": 39,
   "metadata": {},
   "outputs": [
    {
     "name": "stdout",
     "output_type": "stream",
     "text": [
      "ashok\n",
      "o\n",
      "k\n",
      "shok\n"
     ]
    }
   ],
   "source": [
    "str1 = 'ashok'\n",
    "print(str1) # ashok\n",
    "\n",
    "\n",
    "print(str1[3]) \n",
    "print(str1[4]) \n",
    "\n",
    "print(str1[1:5]) #[3- start index :  7 - ending index]"
   ]
  },
  {
   "cell_type": "code",
   "execution_count": 55,
   "metadata": {},
   "outputs": [
    {
     "name": "stdout",
     "output_type": "stream",
     "text": [
      "ashka\n"
     ]
    }
   ],
   "source": [
    "# print('aspholkp'.find('ol'))\n",
    "\n",
    "\n",
    "print('ashok'.replace('ok','ka'))"
   ]
  }
 ],
 "metadata": {
  "kernelspec": {
   "display_name": "Python 3.10.4 64-bit",
   "language": "python",
   "name": "python3"
  },
  "language_info": {
   "codemirror_mode": {
    "name": "ipython",
    "version": 3
   },
   "file_extension": ".py",
   "mimetype": "text/x-python",
   "name": "python",
   "nbconvert_exporter": "python",
   "pygments_lexer": "ipython3",
   "version": "3.10.4"
  },
  "orig_nbformat": 4,
  "vscode": {
   "interpreter": {
    "hash": "aef0ad5cd858520acf7a7a5e6810764bf6b17c229c37f21e929fa08adc6f6002"
   }
  }
 },
 "nbformat": 4,
 "nbformat_minor": 2
}
