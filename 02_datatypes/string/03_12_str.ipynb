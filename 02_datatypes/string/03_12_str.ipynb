{
 "cells": [
  {
   "cell_type": "code",
   "execution_count": null,
   "metadata": {},
   "outputs": [],
   "source": [
    "in previous we covered classes on string are :\n",
    "\n",
    "defenation\n",
    "ways of declaring a string\n",
    "accessing a string value \n",
    "immutable string\n",
    "getting a substring from a string\n",
    "\n",
    "\n",
    "\n",
    "'i am a single quate string '\n",
    "\"i am a dual quate string\"\n",
    "'''i am a triple single quate string '''\n",
    "\"\"\"i am a triple dual quate string\"\"\"\n",
    "\n",
    "\n",
    "\n",
    "'KSoft'"
   ]
  },
  {
   "cell_type": "code",
   "execution_count": 6,
   "metadata": {},
   "outputs": [
    {
     "name": "stdout",
     "output_type": "stream",
     "text": [
      "Hello World\n",
      "i am a single quote string\n",
      "i am a dual quote string\n",
      "<class 'str'>\n",
      "<class 'str'>\n",
      "i am a triple single quote string\n",
      "i am a triple dual quote string\n"
     ]
    }
   ],
   "source": [
    "print('Hello World')\n",
    "\n",
    "single_ = 'i am a single quote string'\n",
    "dual_ = \"i am a dual quote string\"\n",
    "triple_single_ = '''i am a triple single quote string'''\n",
    "triple_dual_ = \"\"\"i am a triple dual quote string\"\"\"\n",
    "print(single_)\n",
    "print(dual_)\n",
    "print(type(single_))#string\n",
    "print(type(dual_))#string\n",
    "print(triple_single_)#string\n",
    "print(triple_dual_)#string"
   ]
  },
  {
   "cell_type": "code",
   "execution_count": 8,
   "metadata": {},
   "outputs": [
    {
     "ename": "SyntaxError",
     "evalue": "unterminated string literal (detected at line 3) (4289595740.py, line 3)",
     "output_type": "error",
     "traceback": [
      "\u001b[1;36m  Input \u001b[1;32mIn [8]\u001b[1;36m\u001b[0m\n\u001b[1;33m    string = ' i am a string\u001b[0m\n\u001b[1;37m             ^\u001b[0m\n\u001b[1;31mSyntaxError\u001b[0m\u001b[1;31m:\u001b[0m unterminated string literal (detected at line 3)\n"
     ]
    }
   ],
   "source": [
    "string = ' i am a string'\n",
    "print(string)\n",
    "string = ' i am a string\n",
    "i am something newly added\n",
    "'\n",
    "print(string)"
   ]
  },
  {
   "cell_type": "code",
   "execution_count": 10,
   "metadata": {},
   "outputs": [
    {
     "name": "stdout",
     "output_type": "stream",
     "text": [
      "Hello\n"
     ]
    },
    {
     "data": {
      "text/plain": [
       "'i am a doc string'"
      ]
     },
     "execution_count": 10,
     "metadata": {},
     "output_type": "execute_result"
    }
   ],
   "source": [
    "def doc_str():\n",
    "    \"\"\"i am a doc string\"\"\"\n",
    "    print('Hello')\n",
    "\n",
    "doc_str()\n",
    "doc_str.__doc__"
   ]
  },
  {
   "cell_type": "code",
   "execution_count": null,
   "metadata": {},
   "outputs": [],
   "source": []
  },
  {
   "cell_type": "code",
   "execution_count": null,
   "metadata": {},
   "outputs": [],
   "source": []
  }
 ],
 "metadata": {
  "kernelspec": {
   "display_name": "Python 3.10.4 64-bit",
   "language": "python",
   "name": "python3"
  },
  "language_info": {
   "codemirror_mode": {
    "name": "ipython",
    "version": 3
   },
   "file_extension": ".py",
   "mimetype": "text/x-python",
   "name": "python",
   "nbconvert_exporter": "python",
   "pygments_lexer": "ipython3",
   "version": "3.10.4"
  },
  "orig_nbformat": 4,
  "vscode": {
   "interpreter": {
    "hash": "aef0ad5cd858520acf7a7a5e6810764bf6b17c229c37f21e929fa08adc6f6002"
   }
  }
 },
 "nbformat": 4,
 "nbformat_minor": 2
}
