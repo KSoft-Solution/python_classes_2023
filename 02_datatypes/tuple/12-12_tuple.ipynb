{
 "cells": [
  {
   "cell_type": "code",
   "execution_count": 2,
   "metadata": {},
   "outputs": [
    {
     "name": "stdout",
     "output_type": "stream",
     "text": [
      "<class 'list'>\n",
      "<class 'tuple'>\n",
      "<class 'str'>\n",
      "<class 'str'>\n",
      "<class 'tuple'>\n"
     ]
    }
   ],
   "source": [
    "li = []\n",
    "print(type(li)) # list\n",
    "\n",
    "tpl = ()\n",
    "print(type(tpl)) # tuple\n",
    "\n",
    "strn = ''\n",
    "print(type(strn)) # str\n",
    "\n",
    "strn2 = ('')\n",
    "print(type(strn2)) #str\n",
    "\n",
    "strn3 = ('',)\n",
    "print(type(strn3)) #tuple"
   ]
  },
  {
   "cell_type": "code",
   "execution_count": 21,
   "metadata": {},
   "outputs": [
    {
     "name": "stdout",
     "output_type": "stream",
     "text": [
      "1\n",
      "2\n",
      "3\n",
      "4\n",
      "5\n",
      "6\n",
      "7\n",
      "8\n",
      "9\n",
      "10\n"
     ]
    }
   ],
   "source": [
    "for subha in range(10):\n",
    "    print(subha+1)\n",
    "\n",
    "print(range('i am not allowed'))\n",
    "\n",
    "print(type(range(10)))\n",
    "print(type(range(10,100)))\n",
    "print(type(range(10,100,5)))\n",
    "print(type(range(-10)))\n",
    "print(type(range(-10,-5)))\n",
    "print(type(range(-10,-5,2)))\n",
    "\n",
    "print(range(10))\n",
    "print(range(10,100))\n",
    "print(range(10,100,5))\n",
    "print(range(-10))\n",
    "print(range(-10,-5))\n",
    "print(range(-10,-5,2))"
   ]
  },
  {
   "attachments": {},
   "cell_type": "markdown",
   "metadata": {},
   "source": [
    "<h1 style='color:yellow; font-weight:bold'>TUPLE IN Python</h1>"
   ]
  },
  {
   "cell_type": "code",
   "execution_count": 26,
   "metadata": {},
   "outputs": [
    {
     "name": "stdout",
     "output_type": "stream",
     "text": [
      "[]\n",
      "[10, 20, 30, 40]\n",
      "[10, 40, 30, 40]\n",
      "40\n"
     ]
    }
   ],
   "source": [
    "li = []\n",
    "print(li)\n",
    "\n",
    "# li[1] = 10\n",
    "# li[2] = 20\n",
    "\n",
    "li.append(10)\n",
    "li.append(20)\n",
    "li.append(30)\n",
    "li.append(40)\n",
    "\n",
    "print(li)\n",
    "\n",
    "li[1] = 40\n",
    "print(li)\n",
    "print(li[3])"
   ]
  },
  {
   "cell_type": "code",
   "execution_count": 32,
   "metadata": {},
   "outputs": [
    {
     "name": "stdout",
     "output_type": "stream",
     "text": [
      "[False, True, True, True, True, True, True, True, True, True]\n",
      "[]\n"
     ]
    }
   ],
   "source": [
    "# lis_empt = [];\n",
    "# lis_of_odds = [];\n",
    "# for i in range(10):\n",
    "#     lis_empt.append(i/2!=0)\n",
    "    \n",
    "# print(lis_empt)\n",
    "# print(lis_of_odds)\n"
   ]
  },
  {
   "cell_type": "code",
   "execution_count": 37,
   "metadata": {},
   "outputs": [
    {
     "name": "stdout",
     "output_type": "stream",
     "text": [
      "<class 'tuple'>\n",
      "<class 'list'>\n"
     ]
    }
   ],
   "source": [
    "lis = tuple([])\n",
    "print(type(lis))  #converted the list to tuple\n",
    "\n",
    "\n",
    "tpl = list(())\n",
    "print(type(tpl))  #converted the tuple to list\n"
   ]
  },
  {
   "cell_type": "code",
   "execution_count": 41,
   "metadata": {},
   "outputs": [
    {
     "name": "stdout",
     "output_type": "stream",
     "text": [
      "(1, 2, 3, 4)\n",
      "('a', 'j', 'i', 'g', 'a', 't', 'e')\n",
      "([1, 2], [2, 3], [3, 4])\n",
      "((1, 2), (2, 3), (3, 4))\n",
      "(True, False)\n",
      "({'name'}, {'name'})\n",
      "({'name': '1'}, {'name': '2'})\n",
      "(1, True, 2.5, 'flirt', ['flirt', 'fart'], (1+2j), {'flirt': 'mu karuchi'}, {'gandu'})\n"
     ]
    }
   ],
   "source": [
    "tpl1 = (1,2,3,4)\n",
    "tpl2 = ('a','j','i','g','a','t','e')\n",
    "tpl3 = ([1,2],[2,3],[3,4])\n",
    "tpl4 = ((1,2),(2,3),(3,4))\n",
    "tpl5 = (True,False)\n",
    "tpl6 = (set({\"name\":\"1\"}),set({\"name\":\"2\"}))\n",
    "tpl7 = ({\"name\":\"1\"},{\"name\":\"2\"})\n",
    "tpl8 = (1,True,2.5,'flirt',['flirt','fart'],1+2j,{\"flirt\":\"mu karuchi\"},set({\"gandu\":\"landu\"}))\n",
    "\n",
    "print(tpl1)\n",
    "print(tpl2)\n",
    "print(tpl3)\n",
    "print(tpl4)\n",
    "print(tpl5)\n",
    "print(tpl6)\n",
    "print(tpl7)\n",
    "print(tpl8)\n",
    "\n"
   ]
  },
  {
   "cell_type": "code",
   "execution_count": 45,
   "metadata": {},
   "outputs": [
    {
     "ename": "IndexError",
     "evalue": "tuple index out of range",
     "output_type": "error",
     "traceback": [
      "\u001b[1;31m---------------------------------------------------------------------------\u001b[0m",
      "\u001b[1;31mIndexError\u001b[0m                                Traceback (most recent call last)",
      "\u001b[1;32md:\\KSoft\\python\\tuple\\12-12_tuple.ipynb Cell 8\u001b[0m in \u001b[0;36m<cell line: 7>\u001b[1;34m()\u001b[0m\n\u001b[0;32m      <a href='vscode-notebook-cell:/d%3A/KSoft/python/tuple/12-12_tuple.ipynb#X14sZmlsZQ%3D%3D?line=0'>1</a>\u001b[0m lis5 \u001b[39m=\u001b[39m (\u001b[39m1\u001b[39m,\u001b[39m2\u001b[39m,\u001b[39m3\u001b[39m)\n\u001b[0;32m      <a href='vscode-notebook-cell:/d%3A/KSoft/python/tuple/12-12_tuple.ipynb#X14sZmlsZQ%3D%3D?line=2'>3</a>\u001b[0m \u001b[39m# print(lis5[0]) \u001b[39;00m\n\u001b[0;32m      <a href='vscode-notebook-cell:/d%3A/KSoft/python/tuple/12-12_tuple.ipynb#X14sZmlsZQ%3D%3D?line=3'>4</a>\u001b[0m \u001b[39m# print(lis5[1])\u001b[39;00m\n\u001b[0;32m      <a href='vscode-notebook-cell:/d%3A/KSoft/python/tuple/12-12_tuple.ipynb#X14sZmlsZQ%3D%3D?line=4'>5</a>\u001b[0m \u001b[39m# print(lis5[2])\u001b[39;00m\n\u001b[1;32m----> <a href='vscode-notebook-cell:/d%3A/KSoft/python/tuple/12-12_tuple.ipynb#X14sZmlsZQ%3D%3D?line=6'>7</a>\u001b[0m \u001b[39mprint\u001b[39m(lis5[\u001b[39m-\u001b[39;49m\u001b[39m5\u001b[39;49m]) \n\u001b[0;32m      <a href='vscode-notebook-cell:/d%3A/KSoft/python/tuple/12-12_tuple.ipynb#X14sZmlsZQ%3D%3D?line=7'>8</a>\u001b[0m \u001b[39mprint\u001b[39m(lis5[\u001b[39m6\u001b[39m])\n",
      "\u001b[1;31mIndexError\u001b[0m: tuple index out of range"
     ]
    }
   ],
   "source": [
    "lis5 = (1,2,3)\n",
    "\n",
    "# print(lis5[0]) \n",
    "# print(lis5[1])\n",
    "# print(lis5[2])\n",
    "\n",
    "print(lis5[-5]) \n",
    "print(lis5[6]) \n",
    "\n",
    "# print(lis5[-1]) \n",
    "# print(lis5[-2])\n",
    "# print(lis5[-3])\n",
    "\n",
    "\n",
    "\n",
    "\n"
   ]
  },
  {
   "cell_type": "code",
   "execution_count": 54,
   "metadata": {},
   "outputs": [
    {
     "name": "stdout",
     "output_type": "stream",
     "text": [
      "\n",
      "b\n",
      "3\n",
      "True\n",
      "False\n",
      "['', 'a', 'b']\n",
      "['b', 'a', '']\n"
     ]
    }
   ],
   "source": [
    "# lis = tuple([1,2,3,4,4,5,''])\n",
    "# lis = ('a','')\n",
    "# lis = tuple(['a',''])\n",
    "lis = tuple(['a','b',''])\n",
    "\n",
    "print(min(lis))\n",
    "print(max(lis))\n",
    "print(len(lis))\n",
    "print(any(lis))\n",
    "print(all(lis))\n",
    "print(sorted(lis))\n",
    "print(sorted(lis,reverse=True))\n"
   ]
  }
 ],
 "metadata": {
  "kernelspec": {
   "display_name": "Python 3",
   "language": "python",
   "name": "python3"
  },
  "language_info": {
   "codemirror_mode": {
    "name": "ipython",
    "version": 3
   },
   "file_extension": ".py",
   "mimetype": "text/x-python",
   "name": "python",
   "nbconvert_exporter": "python",
   "pygments_lexer": "ipython3",
   "version": "3.10.4 (tags/v3.10.4:9d38120, Mar 23 2022, 23:13:41) [MSC v.1929 64 bit (AMD64)]"
  },
  "orig_nbformat": 4,
  "vscode": {
   "interpreter": {
    "hash": "aef0ad5cd858520acf7a7a5e6810764bf6b17c229c37f21e929fa08adc6f6002"
   }
  }
 },
 "nbformat": 4,
 "nbformat_minor": 2
}
