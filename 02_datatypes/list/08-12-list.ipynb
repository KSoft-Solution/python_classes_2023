{
 "cells": [
  {
   "cell_type": "code",
   "execution_count": null,
   "metadata": {},
   "outputs": [],
   "source": [
    "datatypes in python are 2 types\n",
    "\n",
    "primitive\n",
    "\n",
    "datatype which is a single value\n",
    "   string\n",
    "   number\n",
    "       integer\n",
    "       float\n",
    "       complex\n",
    "   boolean\n",
    "\n",
    "non-primitive\n",
    "\n",
    "datatype which is a single multiple values\n",
    "   list\n",
    "   set\n",
    "   tuple\n",
    "   dictionary\n"
   ]
  },
  {
   "attachments": {},
   "cell_type": "markdown",
   "metadata": {},
   "source": [
    "<h1 style='color:yellow; font-weight:bold'>LIST IN PYTHON</h1>"
   ]
  },
  {
   "cell_type": "code",
   "execution_count": 7,
   "metadata": {},
   "outputs": [
    {
     "name": "stdout",
     "output_type": "stream",
     "text": [
      "i am a string\n",
      "<class 'str'>\n",
      "12\n",
      "<class 'int'>\n",
      "12.4\n",
      "<class 'float'>\n",
      "(1+2j)\n",
      "<class 'complex'>\n",
      "True\n",
      "<class 'bool'>\n",
      "False\n",
      "<class 'bool'>\n"
     ]
    }
   ],
   "source": [
    "# primitive datatype\n",
    "\n",
    "strin = 'i am a string'\n",
    "print(strin)\n",
    "print(type(strin))\n",
    "\n",
    "num = 12\n",
    "print(num)\n",
    "print(type(num))\n",
    "\n",
    "num2 = 12.4\n",
    "print(num2)\n",
    "print(type(num2))\n",
    "\n",
    "num3 = 1+2j\n",
    "print(num3)\n",
    "print(type(num3))\n",
    "\n",
    "boo = True\n",
    "print(boo)\n",
    "print(type(boo))\n",
    "\n",
    "boo2 = False\n",
    "print(boo2)\n",
    "print(type(boo2))"
   ]
  },
  {
   "cell_type": "code",
   "execution_count": 23,
   "metadata": {},
   "outputs": [
    {
     "name": "stdout",
     "output_type": "stream",
     "text": [
      "[1, 2, 3, 4, 5]\n",
      "[1.2, 2.3, 3.4, 4.5, 5.6]\n",
      "['a', 's', 'h', 'o', 'k']\n",
      "[[1, 2], [1, 2, 3], [1, 2, 3, 4]]\n",
      "[{'name'}, {'name'}]\n",
      "[True, False, True]\n",
      "[1, 2.3, 'ashok', True, False, [1, 2], {'name'}]\n",
      "<class 'list'>\n",
      "<class 'list'>\n",
      "<class 'list'>\n",
      "<class 'list'>\n",
      "<class 'list'>\n",
      "<class 'list'>\n",
      "<class 'list'>\n"
     ]
    }
   ],
   "source": [
    "# li = []\n",
    "# print(li)\n",
    "# print(type(li))\n",
    "\n",
    "# li2 = [1,2,3,4,5]\n",
    "# print(li2)\n",
    "# print(type(li2))\n",
    "# print(li2[1])\n",
    "# # print(li2[5])\n",
    "# print(li2[4])\n",
    "\n",
    "# str5 = 'subhashri sabat'\n",
    "# print(str5[1])\n",
    "# print(str5[4])\n",
    "# print(str5[5])\n",
    "# print(str5[9])\n",
    "# print(str5[11])\n",
    "\n",
    "li_of_ints = [1,2,3,4,5]\n",
    "li_of_flts = [1.2,2.3,3.4,4.5,5.6]\n",
    "li_of_strs = ['a','s','h','o','k']\n",
    "li_of_list = [[1,2],[1,2,3],[1,2,3,4]]\n",
    "li_of_sets = [set({\"name\":\"a\"}),set({\"name\":\"s\"})]\n",
    "li_of_bool = [True,False,True]\n",
    "\n",
    "\n",
    "li_of_mix_types = [1,2.3,'ashok',True,False,[1,2],set({\"name\":\"set\"})]\n",
    "\n",
    "\n",
    "print(li_of_ints)\n",
    "print(li_of_flts)\n",
    "print(li_of_strs)\n",
    "print(li_of_list)\n",
    "print(li_of_sets)\n",
    "print(li_of_bool)\n",
    "print(li_of_mix_types)\n",
    "\n",
    "print(type(li_of_ints))\n",
    "print(type(li_of_flts))\n",
    "print(type(li_of_strs))\n",
    "print(type(li_of_list))\n",
    "print(type(li_of_sets))\n",
    "print(type(li_of_bool))\n",
    "print(type(li_of_mix_types))\n",
    "\n",
    "\n"
   ]
  },
  {
   "attachments": {},
   "cell_type": "markdown",
   "metadata": {},
   "source": [
    "<p style='color:orange'>lists are mutable in nature</p>"
   ]
  },
  {
   "cell_type": "code",
   "execution_count": 31,
   "metadata": {},
   "outputs": [
    {
     "name": "stdout",
     "output_type": "stream",
     "text": [
      "3\n",
      "[1, 2, 6, 4, 5]\n"
     ]
    }
   ],
   "source": [
    "# str6 = 'i am bhadua'\n",
    "# print(str6)\n",
    "\n",
    "# # print(str6[5])\n",
    "# str6[5] ='g'\n",
    "# print(str6)\n",
    "\n",
    "lis = [1,2,3,4,5]\n",
    "print(lis[2])\n",
    "lis[2] = 6\n",
    "print(lis)"
   ]
  }
 ],
 "metadata": {
  "kernelspec": {
   "display_name": "Python 3.10.4 64-bit",
   "language": "python",
   "name": "python3"
  },
  "language_info": {
   "codemirror_mode": {
    "name": "ipython",
    "version": 3
   },
   "file_extension": ".py",
   "mimetype": "text/x-python",
   "name": "python",
   "nbconvert_exporter": "python",
   "pygments_lexer": "ipython3",
   "version": "3.10.4 (tags/v3.10.4:9d38120, Mar 23 2022, 23:13:41) [MSC v.1929 64 bit (AMD64)]"
  },
  "orig_nbformat": 4,
  "vscode": {
   "interpreter": {
    "hash": "aef0ad5cd858520acf7a7a5e6810764bf6b17c229c37f21e929fa08adc6f6002"
   }
  }
 },
 "nbformat": 4,
 "nbformat_minor": 2
}
