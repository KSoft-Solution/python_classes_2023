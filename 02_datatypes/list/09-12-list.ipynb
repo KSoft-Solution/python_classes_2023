{
 "cells": [
  {
   "cell_type": "code",
   "execution_count": 4,
   "metadata": {},
   "outputs": [
    {
     "name": "stdout",
     "output_type": "stream",
     "text": [
      "[]\n",
      "<class 'list'>\n",
      "[1, 2, 3, 4, 5, 1, 7, 0]\n",
      "<class 'list'>\n",
      "8\n",
      "[0, 1, 1, 2, 3, 4, 5, 7]\n",
      "0\n",
      "7\n",
      "True\n",
      "False\n",
      "False\n",
      "True\n"
     ]
    }
   ],
   "source": [
    "li = []\n",
    "print(li)\n",
    "print(type(li))\n",
    "\n",
    "li1 = [1,2,3,4,5,1,7,0]\n",
    "print(li1)\n",
    "print(type(li1))\n",
    "\n",
    "# build in functions uses in list\n",
    "print(len(li1))\n",
    "print(sorted(li1))\n",
    "print(min(li1))\n",
    "print(max(li1))\n",
    "\n",
    "#check exist a element inside the list\n",
    "print(2 in li1)\n",
    "print(9 in li1)\n",
    "print(2 not in li1)\n",
    "print(6 not in li1)"
   ]
  },
  {
   "cell_type": "code",
   "execution_count": 7,
   "metadata": {},
   "outputs": [
    {
     "name": "stdout",
     "output_type": "stream",
     "text": [
      "['m', 'u', '50', 'd', 'e', 'b', 'i', 'a', 'j', 'i']\n"
     ]
    }
   ],
   "source": [
    "li2 = ['k','e','b','e','p','i','c','n','i','c','h','a','b','a']\n",
    "li3 =['m','u','50','d','e','b','i','a','j','i']\n",
    "\n",
    "print(li3)\n",
    "\n",
    "\n",
    "\n"
   ]
  },
  {
   "cell_type": "code",
   "execution_count": 10,
   "metadata": {},
   "outputs": [
    {
     "name": "stdout",
     "output_type": "stream",
     "text": [
      "False\n",
      "True\n",
      "True\n",
      "False\n",
      "False\n"
     ]
    }
   ],
   "source": [
    "print(True == 0)\n",
    "print(True == 1)\n",
    "print(False == 0)\n",
    "print(False == 1)\n",
    "print(True == 5)"
   ]
  },
  {
   "cell_type": "code",
   "execution_count": 21,
   "metadata": {},
   "outputs": [
    {
     "name": "stdout",
     "output_type": "stream",
     "text": [
      "True\n"
     ]
    }
   ],
   "source": [
    "# li_t1 = [1,2,3,4,5]\n",
    "# li_t1 = [1,2,3,4,0]\n",
    "# li_t1 = [1,2,3,4,False]\n",
    "# li_t1 = [1,2,3,4,'']\n",
    "# li_t1 = [1,2,3,4,'a']\n",
    "# li_t1 = [1,2,3,4,' ']\n",
    "# li_t1 = [1,2,3,4,[]]\n",
    "# li_t1 = [1,2,3,4,{}]\n",
    "li_t1 = [1,2,3,4,'&']\n",
    "# li_t1 = [1,2,3,4,()]\n",
    "print(all(li_t1))"
   ]
  },
  {
   "cell_type": "code",
   "execution_count": 24,
   "metadata": {},
   "outputs": [
    {
     "name": "stdout",
     "output_type": "stream",
     "text": [
      "False\n"
     ]
    }
   ],
   "source": [
    "# li_t1 = [1,2,3,4,5]\n",
    "# li_t1 = [0,False,{},[],(),'',1]\n",
    "li_t1 = [0,False,{},[],(),'']\n",
    "\n",
    "print(any(li_t1))"
   ]
  },
  {
   "cell_type": "code",
   "execution_count": 33,
   "metadata": {},
   "outputs": [
    {
     "name": "stdout",
     "output_type": "stream",
     "text": [
      "[1, 2, 3, 4]\n",
      "<class 'list'>\n"
     ]
    }
   ],
   "source": [
    "# se = set({\n",
    "#     \"name\":\"ashok sahu\"\n",
    "# })\n",
    "# se = dict({\n",
    "#     \"name\":\"ashok sahu\"\n",
    "# })\n",
    "se = (1,2,3,4)\n",
    "\n",
    "lis = list(se)\n",
    "print(lis)\n",
    "print(type(lis))\n",
    "\n",
    "# print(type(se))\n",
    "# print(se)"
   ]
  },
  {
   "cell_type": "code",
   "execution_count": 36,
   "metadata": {},
   "outputs": [
    {
     "name": "stdout",
     "output_type": "stream",
     "text": [
      "[1, 2, 3, 4, 5, 6, 7, 8, 9, 10]\n",
      "<class 'list'>\n",
      "1\n",
      "2\n",
      "3\n",
      "4\n",
      "5\n",
      "6\n",
      "7\n",
      "8\n",
      "9\n",
      "10\n",
      "10\n"
     ]
    }
   ],
   "source": [
    "li4 = [1,2,3,4,5,6,7,8,9,10]\n",
    "print(li4)\n",
    "print(type(li4))\n",
    "\n",
    "print(li4[0]) # 1\n",
    "print(li4[1]) #2\n",
    "print(li4[2])#3\n",
    "print(li4[3])#4\n",
    "print(li4[4])#5\n",
    "print(li4[5])#6\n",
    "print(li4[6])#7\n",
    "print(li4[7])#8\n",
    "print(li4[8])#9\n",
    "print(li4[9])#10\n",
    "# print(li4[10])#out of range\n",
    "print(li4[-1])#out of range"
   ]
  },
  {
   "cell_type": "code",
   "execution_count": null,
   "metadata": {},
   "outputs": [],
   "source": [
    "li4 = [1,2,3,4,5,6,7,8,9,10]\n",
    "\n"
   ]
  }
 ],
 "metadata": {
  "kernelspec": {
   "display_name": "Python 3",
   "language": "python",
   "name": "python3"
  },
  "language_info": {
   "codemirror_mode": {
    "name": "ipython",
    "version": 3
   },
   "file_extension": ".py",
   "mimetype": "text/x-python",
   "name": "python",
   "nbconvert_exporter": "python",
   "pygments_lexer": "ipython3",
   "version": "3.10.4 (tags/v3.10.4:9d38120, Mar 23 2022, 23:13:41) [MSC v.1929 64 bit (AMD64)]"
  },
  "orig_nbformat": 4,
  "vscode": {
   "interpreter": {
    "hash": "aef0ad5cd858520acf7a7a5e6810764bf6b17c229c37f21e929fa08adc6f6002"
   }
  }
 },
 "nbformat": 4,
 "nbformat_minor": 2
}
