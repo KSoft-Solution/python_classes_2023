{
 "cells": [
  {
   "attachments": {},
   "cell_type": "markdown",
   "metadata": {},
   "source": [
    "<h1 style='color:pink; font-weight:bold''>list slicing</h1>\n",
    "<p> list_name[start:end:step]   (step -- optional)</p>"
   ]
  },
  {
   "cell_type": "code",
   "execution_count": 9,
   "metadata": {},
   "outputs": [
    {
     "name": "stdout",
     "output_type": "stream",
     "text": [
      "[1, 2, 3, 4, 5, 6, 7, 8, 9, 10]\n",
      "<class 'list'>\n",
      "[2, 3, 4, 5, 6, 7, 8, 9, 10]\n",
      "[6, 7, 8, 9, 10]\n",
      "[1, 2, 3, 4]\n",
      "[2, 3, 4]\n",
      "[2, 4, 6]\n"
     ]
    }
   ],
   "source": [
    "lis = [1,2,3,4,5,6,7,8,9,10]\n",
    "print(lis)\n",
    "print(type(lis))\n",
    "\n",
    "# print(lis[1])\n",
    "# print(lis[4])\n",
    "\n",
    "print(lis[1:])\n",
    "print(lis[5:])\n",
    "print(lis[:4])\n",
    "print(lis[1:4])\n",
    "\n",
    "print(lis[1:7:2])"
   ]
  },
  {
   "attachments": {},
   "cell_type": "markdown",
   "metadata": {},
   "source": [
    "list element change and add"
   ]
  },
  {
   "cell_type": "code",
   "execution_count": 21,
   "metadata": {},
   "outputs": [
    {
     "name": "stdout",
     "output_type": "stream",
     "text": [
      "[1, 2, 3, 4, 5]\n",
      "<class 'list'>\n",
      "[9, 6, 5]\n"
     ]
    }
   ],
   "source": [
    "lis1 = [1,2,3,4,5]\n",
    "print(lis1)\n",
    "print(type(lis1))\n",
    "\n",
    "\n",
    "# lis1[0] = 10\n",
    "# print(lis1)\n",
    "\n",
    "lis1[0:4] = [9,6]\n",
    "print(lis1)\n",
    "\n",
    "\n",
    "\n",
    "# lis2 = lis1\n",
    "# lis2[2:4] = [9,10]\n",
    "# print(lis2)\n",
    "\n",
    "# # lis2[1] = 8\n",
    "# # print(lis2[1])\n",
    "# # print(lis1[1])\n",
    "\n",
    "# # print(lis2)"
   ]
  },
  {
   "cell_type": "code",
   "execution_count": 30,
   "metadata": {},
   "outputs": [
    {
     "name": "stdout",
     "output_type": "stream",
     "text": [
      "[2, 4, 6, 8, 10]\n",
      "[4, 6, 8]\n",
      "[2, 4, 6, 8, 10]\n",
      "[20, 'we are learning  now', True]\n",
      "[2, 20, 'we are learning  now', True, 10]\n"
     ]
    }
   ],
   "source": [
    "odd = [2, 4, 6, 8,10]\n",
    "print(odd)\n",
    "\n",
    "print(odd[1:4])\n",
    "print(odd)\n",
    "\n",
    "odd[1:4] = [20,'we are learning  now',True]\n",
    "print(odd[1:4])\n",
    "print(odd)"
   ]
  },
  {
   "attachments": {},
   "cell_type": "markdown",
   "metadata": {},
   "source": [
    "<h1 style='color:yellow; font-weight:bold; '>LIST METHODS</h1>\n",
    "<p>\n",
    "<u>Method\tDescription </u><br/>\n",
    "  <span style='color:green'>1.append()</span>-\tAdd an element to the end of the list<br/>\n",
    "<span style='color:green'>2.extend()</span>-\tAdd all elements of a list to the another list<br/>\n",
    "<span style='color:green'>3.insert()</span>-\tInsert an item at the defined index<br/>\n",
    "<span style='color:green'>4.remove()</span>-\tRemoves an item from the list<br/>\n",
    "<span style='color:green'>5.pop()</span>-\tRemoves and returns an element at the given index<br/>\n",
    "<span style='color:green'>6.clear()</span>-\tRemoves all items from the list<br/>\n",
    "<span style='color:green'>7.index()</span>-\tReturns the index of the first matched item<br/>\n",
    "<span style='color:green'>8.count()</span>-\tReturns the count of the number of items passed as an argument<br/>\n",
    "<span style='color:green'>9.sort()</span>-\tSort items in a list in ascending order<br/>\n",
    "<span style='color:green'>10.reverse()</span>-\tReverse the order of items in the list<br/>\n",
    "<span style='color:green'>11.copy()</span>-\tReturns a shallow copy of the list<br/>\n",
    "</p>"
   ]
  },
  {
   "cell_type": "code",
   "execution_count": 45,
   "metadata": {},
   "outputs": [
    {
     "name": "stdout",
     "output_type": "stream",
     "text": [
      "['K', 's', 'o', 'f', 't']\n",
      "5\n",
      "['K', 's', 'o', 'f', 't', 'solutions', 'in', 'Girisola']\n"
     ]
    }
   ],
   "source": [
    "list_app = ['K',\"s\",\"o\",\"f\",\"t\"]\n",
    "print(list_app)\n",
    "# print(type(list_app))\n",
    "\n",
    "\n",
    "# list_app.append(\"Solutions\")\n",
    "# print(list_app)\n",
    "\n",
    "#merging of lists\n",
    "list_ext = [\"solutions\",\"in\",\"Girisola\"]\n",
    "# list_app.extend(list_ext)\n",
    "# print(list_app)\n",
    "\n",
    "# new_lis = list_app + list_ext\n",
    "# print(new_lis)\n",
    "print(len(list_app))\n",
    "list_app[len(list_app):] = list_ext\n",
    "print(list_app)"
   ]
  },
  {
   "cell_type": "code",
   "execution_count": 50,
   "metadata": {},
   "outputs": [
    {
     "name": "stdout",
     "output_type": "stream",
     "text": [
      "['a', 'e', 'i', 'u']\n",
      "4\n",
      "['a', 'o', 'e', 'i', 'u']\n",
      "5\n"
     ]
    }
   ],
   "source": [
    "vowel = ['a','e','i','u']\n",
    "print(vowel)\n",
    "print(len(vowel))\n",
    "\n",
    "vowel.insert(1,'o')\n",
    "print(vowel)\n",
    "print(len(vowel))"
   ]
  },
  {
   "cell_type": "code",
   "execution_count": 64,
   "metadata": {},
   "outputs": [
    {
     "name": "stdout",
     "output_type": "stream",
     "text": [
      "2\n",
      "1\n",
      "6\n"
     ]
    }
   ],
   "source": [
    "lis_elm = [1,2,3,4,5,6,7,7,3,2,2]\n",
    "srt_li = ['a','s','h','o','k']\n",
    "# print(lis_elm)\n",
    "\n",
    "# print(lis_elm.count(2))\n",
    "# print(lis_elm.count(7))\n",
    "# print(lis_elm.count(5))\n",
    "\n",
    "# srt_li.sort()\n",
    "# lis_elm.sort()\n",
    "# srt_li.sort(reverse=True)\n",
    "# lis_elm.sort(reverse=True)\n",
    "# srt_li.reverse()\n",
    "# lis_elm.reverse()\n",
    "# print(srt_li)\n",
    "# print(lis_elm)\n",
    "\n",
    "print(lis_elm.index(3))\n",
    "print(lis_elm.index(2))\n",
    "print(lis_elm.index(7))"
   ]
  },
  {
   "cell_type": "code",
   "execution_count": 69,
   "metadata": {},
   "outputs": [
    {
     "name": "stdout",
     "output_type": "stream",
     "text": [
      "[1, 2, 3, 5]\n",
      "[1, 2, 3, 5]\n",
      "[1, 2, 3, 5]\n"
     ]
    }
   ],
   "source": [
    "lis_1 = [1,2,3,5]\n",
    "print(lis_1)\n",
    "\n",
    "lis_2 = lis_1.copy()\n",
    "print(lis_1)\n",
    "print(lis_2)\n",
    "\n",
    "\n",
    "# lis_1.clear()\n",
    "# print(lis_1)\n",
    "\n",
    "# lis_1.pop()\n",
    "# print(lis_1)\n",
    "# lis_1.remove(1)\n",
    "# print(lis_1)"
   ]
  }
 ],
 "metadata": {
  "kernelspec": {
   "display_name": "Python 3",
   "language": "python",
   "name": "python3"
  },
  "language_info": {
   "codemirror_mode": {
    "name": "ipython",
    "version": 3
   },
   "file_extension": ".py",
   "mimetype": "text/x-python",
   "name": "python",
   "nbconvert_exporter": "python",
   "pygments_lexer": "ipython3",
   "version": "3.10.4 (tags/v3.10.4:9d38120, Mar 23 2022, 23:13:41) [MSC v.1929 64 bit (AMD64)]"
  },
  "orig_nbformat": 4,
  "vscode": {
   "interpreter": {
    "hash": "aef0ad5cd858520acf7a7a5e6810764bf6b17c229c37f21e929fa08adc6f6002"
   }
  }
 },
 "nbformat": 4,
 "nbformat_minor": 2
}
