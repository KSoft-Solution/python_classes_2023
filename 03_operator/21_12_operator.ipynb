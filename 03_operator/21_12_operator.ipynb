{
 "cells": [
  {
   "attachments": {},
   "cell_type": "markdown",
   "metadata": {},
   "source": [
    "<h5 style='color:red'>definition of operator</h5>\n",
    "\n",
    "<p>Operators are special symbols that perform operations on variables and values.</p>\n",
    "\n",
    "<h6><u>types of operators</u></h6>\n",
    "Arithmetic operators<br/>\n",
    "Assignment Operators<br/>\n",
    "Comparison Operators<br/>\n",
    "Logical Operators<br/>\n",
    "Bitwise Operators<br/>\n",
    "Special Operators  -- (membership{in, not in}) (identity operator{is, not is}) <br/>"
   ]
  },
  {
   "cell_type": "code",
   "execution_count": 3,
   "metadata": {},
   "outputs": [
    {
     "name": "stdout",
     "output_type": "stream",
     "text": [
      "14\n",
      "10\n",
      "24\n",
      "6.0\n",
      "0\n",
      "144\n"
     ]
    }
   ],
   "source": [
    "a = 12\n",
    "b = 2\n",
    "\n",
    "print(a+b) # addition\n",
    "print(a-b) # substraction\n",
    "print(a*b) # multiplication\n",
    "print(a/b) # division\n",
    "print(a%b) # modulos (reminder operator)\n",
    "print(a**b) # power\n",
    "\n",
    "\n"
   ]
  },
  {
   "cell_type": "code",
   "execution_count": 19,
   "metadata": {},
   "outputs": [
    {
     "name": "stdout",
     "output_type": "stream",
     "text": [
      "144\n"
     ]
    }
   ],
   "source": [
    "a = 12 # assignment operator\n",
    "\n",
    "# a = a+2\n",
    "# a = a-2\n",
    "# a = a*2\n",
    "# a = a/2\n",
    "# a = a%2\n",
    "# a = a**2\n",
    "\n",
    "# a+=2\n",
    "# a-=2\n",
    "# a*=2\n",
    "# a/=2\n",
    "# a%=2\n",
    "a**=2\n",
    "print(a)\n",
    "\n",
    "\n",
    "\n"
   ]
  },
  {
   "cell_type": "code",
   "execution_count": 22,
   "metadata": {},
   "outputs": [
    {
     "name": "stdout",
     "output_type": "stream",
     "text": [
      "True\n",
      "False\n",
      "False\n",
      "True\n",
      "False\n",
      "True\n"
     ]
    }
   ],
   "source": [
    "a = 12\n",
    "b = 2\n",
    "\n",
    "print(a>b)\n",
    "print(a<b)\n",
    "print(a<=b)\n",
    "print(a>=b)\n",
    "print(a==b)\n",
    "print(a!=b)"
   ]
  },
  {
   "cell_type": "code",
   "execution_count": 26,
   "metadata": {},
   "outputs": [
    {
     "name": "stdout",
     "output_type": "stream",
     "text": [
      "True\n",
      "False\n",
      "True\n",
      "False\n",
      "True\n"
     ]
    }
   ],
   "source": [
    "a = 10\n",
    "b = 5\n",
    "c = 10\n",
    "\n",
    "less = a>b\n",
    "gret = a<b\n",
    "eql = a == c\n",
    "\n",
    "print(less)\n",
    "print(gret)\n",
    "print(eql)\n",
    "\n",
    "# print(less and gret) # f\n",
    "# print(less and eql) # t\n",
    "# print(gret and gret) # f\n",
    "# print(gret and less) # f\n",
    "\n",
    "# print(less or gret) # f\n",
    "# print(less or eql) # t\n",
    "# print(gret or gret) # t\n",
    "# print(gret or less) # f\n",
    "\n",
    "print(not less)\n",
    "print(not gret)\n",
    "\n"
   ]
  },
  {
   "cell_type": "code",
   "execution_count": 29,
   "metadata": {},
   "outputs": [
    {
     "name": "stdout",
     "output_type": "stream",
     "text": [
      "2443778720768\n",
      "2443778721024\n",
      "2443700470128\n",
      "2443700470128\n",
      "False\n",
      "True\n",
      "False\n"
     ]
    }
   ],
   "source": [
    "x1 = 5\n",
    "y1 = 5\n",
    "x2 = 'Hello'\n",
    "y2 = 'Hello'\n",
    "x3 = [1,2,3]\n",
    "y3 = [1,2,3]\n",
    "\n",
    "print(id(x3))\n",
    "print(id(y3))\n",
    "\n",
    "print(id(x1))\n",
    "print(id(y1))\n",
    "\n",
    "print(x1 is not y1)  # prints False\n",
    "\n",
    "print(x2 is y2)  # prints True\n",
    "\n",
    "print(x3 is y3)  # prints False"
   ]
  }
 ],
 "metadata": {
  "kernelspec": {
   "display_name": "Python 3",
   "language": "python",
   "name": "python3"
  },
  "language_info": {
   "codemirror_mode": {
    "name": "ipython",
    "version": 3
   },
   "file_extension": ".py",
   "mimetype": "text/x-python",
   "name": "python",
   "nbconvert_exporter": "python",
   "pygments_lexer": "ipython3",
   "version": "3.10.4"
  },
  "orig_nbformat": 4,
  "vscode": {
   "interpreter": {
    "hash": "aef0ad5cd858520acf7a7a5e6810764bf6b17c229c37f21e929fa08adc6f6002"
   }
  }
 },
 "nbformat": 4,
 "nbformat_minor": 2
}
