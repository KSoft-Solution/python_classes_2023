{
 "cells": [
  {
   "cell_type": "code",
   "execution_count": 34,
   "metadata": {},
   "outputs": [
    {
     "name": "stdout",
     "output_type": "stream",
     "text": [
      "{False, True, (1, 2), 's'}\n"
     ]
    }
   ],
   "source": [
    "s = {True,1,False,0,(1,2),'s',1,0}\n",
    "\n",
    "print(s)\n",
    "\n",
    "# d = {}\n",
    "\n",
    "# print(d)\n",
    "\n",
    "# print(type(s) == type(d))\n",
    "\n",
    "\n",
    "# adding items in set\n",
    "\n",
    "# removing items in set\n",
    "\n",
    "# modifying items in set\n",
    "\n",
    "# accessing items in set\n",
    "\n",
    "\n",
    "# set builtin functions"
   ]
  }
 ],
 "metadata": {
  "kernelspec": {
   "display_name": "Python 3",
   "language": "python",
   "name": "python3"
  },
  "language_info": {
   "codemirror_mode": {
    "name": "ipython",
    "version": 3
   },
   "file_extension": ".py",
   "mimetype": "text/x-python",
   "name": "python",
   "nbconvert_exporter": "python",
   "pygments_lexer": "ipython3",
   "version": "3.10.4 (tags/v3.10.4:9d38120, Mar 23 2022, 23:13:41) [MSC v.1929 64 bit (AMD64)]"
  },
  "orig_nbformat": 4,
  "vscode": {
   "interpreter": {
    "hash": "aef0ad5cd858520acf7a7a5e6810764bf6b17c229c37f21e929fa08adc6f6002"
   }
  }
 },
 "nbformat": 4,
 "nbformat_minor": 2
}
