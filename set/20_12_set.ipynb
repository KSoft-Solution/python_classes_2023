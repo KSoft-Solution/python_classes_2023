{
 "cells": [
  {
   "cell_type": "code",
   "execution_count": 32,
   "metadata": {},
   "outputs": [
    {
     "name": "stdout",
     "output_type": "stream",
     "text": [
      "{1, 2}\n",
      "{2, 3, 4, 5, 6, 7, 8}\n"
     ]
    }
   ],
   "source": [
    "se1 = {1,2}\n",
    "print(se1)\n",
    "\n",
    "# se1.add('a')\n",
    "se1.add(3)\n",
    "se1.add(4)\n",
    "se1.add(0)\n",
    "\n",
    "# se1.update([1,2,3,4,5,17,'a','b',0])\n",
    "se1.update([3,4,5],(6,7,8))\n",
    "\n",
    "# se1.discard(8)\n",
    "# se1.remove(7)\n",
    "\n",
    "# se1.discard(9)\n",
    "# se1.remove(9)\n",
    "\n",
    "# se1.clear()\n",
    "se1.pop()\n",
    "se1.pop()\n",
    "\n",
    "print(se1)"
   ]
  },
  {
   "attachments": {},
   "cell_type": "markdown",
   "metadata": {},
   "source": [
    "union"
   ]
  },
  {
   "cell_type": "code",
   "execution_count": 33,
   "metadata": {},
   "outputs": [
    {
     "name": "stdout",
     "output_type": "stream",
     "text": [
      "{1, 2, 3, 4, 5, 6, 7, 8}\n",
      "{1, 2, 3, 4, 5, 6, 9, 10}\n",
      "{1, 2, 3, 4, 5, 6, 7, 8, 9, 10}\n",
      "{1, 2, 3, 4, 5, 6, 7, 8, 9, 10}\n",
      "{1, 2, 3, 4, 5, 6, 7, 8, 9, 10}\n",
      "{1, 2, 3, 4, 5, 6, 7, 8, 9, 10}\n"
     ]
    }
   ],
   "source": [
    "A = {1,2,3,4,5,6,7,8}\n",
    "B = {1,2,3,4,5,6,9,10}\n",
    "\n",
    "print(A)\n",
    "print(B)\n",
    "\n",
    "print(A | B)\n",
    "print(B | A)\n",
    "print(A.union(B))\n",
    "print(B.union(A))"
   ]
  },
  {
   "attachments": {},
   "cell_type": "markdown",
   "metadata": {},
   "source": [
    "intersaction"
   ]
  },
  {
   "cell_type": "code",
   "execution_count": 34,
   "metadata": {},
   "outputs": [
    {
     "name": "stdout",
     "output_type": "stream",
     "text": [
      "{1, 2, 3, 4, 5, 6, 7, 8}\n",
      "{1, 2, 3, 4, 5, 6, 9, 10}\n",
      "{1, 2, 3, 4, 5, 6}\n",
      "{1, 2, 3, 4, 5, 6}\n",
      "{1, 2, 3, 4, 5, 6}\n",
      "{1, 2, 3, 4, 5, 6}\n"
     ]
    }
   ],
   "source": [
    "A = {1,2,3,4,5,6,7,8}\n",
    "B = {1,2,3,4,5,6,9,10}\n",
    "\n",
    "print(A)\n",
    "print(B)\n",
    "\n",
    "print(A & B)\n",
    "print(B & A)\n",
    "print(A.intersection(B))\n",
    "print(B.intersection(A))"
   ]
  },
  {
   "attachments": {},
   "cell_type": "markdown",
   "metadata": {},
   "source": [
    "difference"
   ]
  },
  {
   "cell_type": "code",
   "execution_count": 35,
   "metadata": {},
   "outputs": [
    {
     "name": "stdout",
     "output_type": "stream",
     "text": [
      "{1, 2, 3, 4, 5, 6, 7, 8}\n",
      "{1, 2, 3, 4, 5, 6, 9, 10}\n",
      "{8, 7}\n",
      "{9, 10}\n",
      "{8, 7}\n",
      "{9, 10}\n"
     ]
    }
   ],
   "source": [
    "A = {1,2,3,4,5,6,7,8}\n",
    "B = {1,2,3,4,5,6,9,10}\n",
    "\n",
    "print(A)\n",
    "print(B)\n",
    "\n",
    "print(A - B)\n",
    "print(B - A)\n",
    "print(A.difference(B))\n",
    "print(B.difference(A))"
   ]
  },
  {
   "attachments": {},
   "cell_type": "markdown",
   "metadata": {},
   "source": [
    "symetric difference\n"
   ]
  },
  {
   "cell_type": "code",
   "execution_count": 36,
   "metadata": {},
   "outputs": [
    {
     "name": "stdout",
     "output_type": "stream",
     "text": [
      "{1, 2, 3, 4, 5, 6, 7, 8}\n",
      "{1, 2, 3, 4, 5, 6, 9, 10}\n",
      "{7, 8, 9, 10}\n",
      "{7, 8, 9, 10}\n",
      "{7, 8, 9, 10}\n",
      "{7, 8, 9, 10}\n"
     ]
    }
   ],
   "source": [
    "A = {1,2,3,4,5,6,7,8}\n",
    "B = {1,2,3,4,5,6,9,10}\n",
    "\n",
    "print(A)\n",
    "print(B)\n",
    "\n",
    "print(A ^ B)\n",
    "print(B ^ A)\n",
    "print(A.symmetric_difference(B))\n",
    "print(B.symmetric_difference(A))"
   ]
  },
  {
   "attachments": {},
   "cell_type": "markdown",
   "metadata": {},
   "source": [
    "add\n",
    "update\n",
    "discard\n",
    "remove\n",
    "pop \n",
    "clear\n",
    "union (|)\n",
    "intersaction (&)\n",
    "difference (-)\n",
    "symetric_difference (^)"
   ]
  }
 ],
 "metadata": {
  "kernelspec": {
   "display_name": "Python 3",
   "language": "python",
   "name": "python3"
  },
  "language_info": {
   "codemirror_mode": {
    "name": "ipython",
    "version": 3
   },
   "file_extension": ".py",
   "mimetype": "text/x-python",
   "name": "python",
   "nbconvert_exporter": "python",
   "pygments_lexer": "ipython3",
   "version": "3.10.4 (tags/v3.10.4:9d38120, Mar 23 2022, 23:13:41) [MSC v.1929 64 bit (AMD64)]"
  },
  "orig_nbformat": 4,
  "vscode": {
   "interpreter": {
    "hash": "aef0ad5cd858520acf7a7a5e6810764bf6b17c229c37f21e929fa08adc6f6002"
   }
  }
 },
 "nbformat": 4,
 "nbformat_minor": 2
}
